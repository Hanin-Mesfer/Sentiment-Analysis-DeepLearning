{
  "nbformat": 4,
  "nbformat_minor": 0,
  "metadata": {
    "colab": {
      "provenance": [],
      "gpuType": "T4",
      "mount_file_id": "1VK58Gfr2vRyD5OO1sLs6FPyMEnAi0yk0",
      "authorship_tag": "ABX9TyNMjF0P32hS2NTVM6YsOwPO",
      "include_colab_link": true
    },
    "kernelspec": {
      "name": "python3",
      "display_name": "Python 3"
    },
    "language_info": {
      "name": "python"
    },
    "accelerator": "GPU"
  },
  "cells": [
    {
      "cell_type": "markdown",
      "metadata": {
        "id": "view-in-github",
        "colab_type": "text"
      },
      "source": [
        "<a href=\"https://colab.research.google.com/github/Hanin-Mesfer/Sentiment-Analysis-DeepLearning/blob/main/Sentiment_Analysis_Use_Multiple_Models.ipynb\" target=\"_parent\"><img src=\"https://colab.research.google.com/assets/colab-badge.svg\" alt=\"Open In Colab\"/></a>"
      ]
    },
    {
      "cell_type": "markdown",
      "source": [
        "Upload your kaggle.json file here in google colab"
      ],
      "metadata": {
        "id": "VcBlP1yw5hFq"
      }
    },
    {
      "cell_type": "code",
      "source": [
        "!pip install kaggle"
      ],
      "metadata": {
        "id": "liGjrQTA5ikC",
        "colab": {
          "base_uri": "https://localhost:8080/"
        },
        "outputId": "d617fb9d-6c59-4627-9890-faf5cfc9efa9"
      },
      "execution_count": 1,
      "outputs": [
        {
          "output_type": "stream",
          "name": "stdout",
          "text": [
            "Requirement already satisfied: kaggle in /usr/local/lib/python3.11/dist-packages (1.7.4.5)\n",
            "Requirement already satisfied: bleach in /usr/local/lib/python3.11/dist-packages (from kaggle) (6.2.0)\n",
            "Requirement already satisfied: certifi>=14.05.14 in /usr/local/lib/python3.11/dist-packages (from kaggle) (2025.7.14)\n",
            "Requirement already satisfied: charset-normalizer in /usr/local/lib/python3.11/dist-packages (from kaggle) (3.4.2)\n",
            "Requirement already satisfied: idna in /usr/local/lib/python3.11/dist-packages (from kaggle) (3.10)\n",
            "Requirement already satisfied: protobuf in /usr/local/lib/python3.11/dist-packages (from kaggle) (5.29.5)\n",
            "Requirement already satisfied: python-dateutil>=2.5.3 in /usr/local/lib/python3.11/dist-packages (from kaggle) (2.9.0.post0)\n",
            "Requirement already satisfied: python-slugify in /usr/local/lib/python3.11/dist-packages (from kaggle) (8.0.4)\n",
            "Requirement already satisfied: requests in /usr/local/lib/python3.11/dist-packages (from kaggle) (2.32.3)\n",
            "Requirement already satisfied: setuptools>=21.0.0 in /usr/local/lib/python3.11/dist-packages (from kaggle) (75.2.0)\n",
            "Requirement already satisfied: six>=1.10 in /usr/local/lib/python3.11/dist-packages (from kaggle) (1.17.0)\n",
            "Requirement already satisfied: text-unidecode in /usr/local/lib/python3.11/dist-packages (from kaggle) (1.3)\n",
            "Requirement already satisfied: tqdm in /usr/local/lib/python3.11/dist-packages (from kaggle) (4.67.1)\n",
            "Requirement already satisfied: urllib3>=1.15.1 in /usr/local/lib/python3.11/dist-packages (from kaggle) (2.4.0)\n",
            "Requirement already satisfied: webencodings in /usr/local/lib/python3.11/dist-packages (from kaggle) (0.5.1)\n"
          ]
        }
      ]
    },
    {
      "cell_type": "code",
      "source": [
        "# configuring the path of Kaggle.json file\n",
        "!mkdir -p ~/.kaggle\n",
        "!cp kaggle.json ~/.kaggle/\n",
        "!chmod 600 ~/.kaggle/kaggle.json"
      ],
      "metadata": {
        "id": "gpN1GdDt5nVz"
      },
      "execution_count": 2,
      "outputs": []
    },
    {
      "cell_type": "markdown",
      "source": [
        "### Data Collection- Kaggle API\n",
        "\n",
        "Go to Dataset in kaggle and press Download\n",
        "\n",
        "Then choose Kaggle CLI and copy the command"
      ],
      "metadata": {
        "id": "Ow8ROVUS5vnz"
      }
    },
    {
      "cell_type": "code",
      "source": [
        "#!/bin/bash\n",
        "!kaggle datasets download lakshmi25npathi/imdb-dataset-of-50k-movie-reviews"
      ],
      "metadata": {
        "id": "cHZOXwdG5vMT",
        "colab": {
          "base_uri": "https://localhost:8080/"
        },
        "outputId": "f4dd8fae-2624-45cc-f70a-cb2a866bebc2"
      },
      "execution_count": 3,
      "outputs": [
        {
          "output_type": "stream",
          "name": "stdout",
          "text": [
            "Dataset URL: https://www.kaggle.com/datasets/lakshmi25npathi/imdb-dataset-of-50k-movie-reviews\n",
            "License(s): other\n",
            "Downloading imdb-dataset-of-50k-movie-reviews.zip to /content\n",
            "  0% 0.00/25.7M [00:00<?, ?B/s]\n",
            "100% 25.7M/25.7M [00:00<00:00, 671MB/s]\n"
          ]
        }
      ]
    },
    {
      "cell_type": "code",
      "source": [
        "# unzip the dataset file\n",
        "from zipfile import ZipFile\n",
        "with ZipFile(\"/content/imdb-dataset-of-50k-movie-reviews.zip\", \"r\") as zip_ref:\n",
        "  zip_ref.extractall()"
      ],
      "metadata": {
        "id": "iUqSI0EJ6EwH"
      },
      "execution_count": 4,
      "outputs": []
    },
    {
      "cell_type": "code",
      "source": [],
      "metadata": {
        "id": "jVxDL1KMSt-V"
      },
      "execution_count": 4,
      "outputs": []
    },
    {
      "cell_type": "markdown",
      "source": [
        "#Data Discovery"
      ],
      "metadata": {
        "id": "iCgsDZFfSvTh"
      }
    },
    {
      "cell_type": "code",
      "source": [
        "import pandas as pd\n",
        "\n",
        "data= pd.read_csv(\"/content/IMDB Dataset.csv\")"
      ],
      "metadata": {
        "id": "gD70nJBc7Hjp"
      },
      "execution_count": 5,
      "outputs": []
    },
    {
      "cell_type": "code",
      "source": [
        "data.head()"
      ],
      "metadata": {
        "id": "DWZWtw1e7HQS",
        "colab": {
          "base_uri": "https://localhost:8080/",
          "height": 206
        },
        "outputId": "6292288c-3c52-41dd-9f2d-c4807ad9f00e"
      },
      "execution_count": 6,
      "outputs": [
        {
          "output_type": "execute_result",
          "data": {
            "text/plain": [
              "                                              review sentiment\n",
              "0  One of the other reviewers has mentioned that ...  positive\n",
              "1  A wonderful little production. <br /><br />The...  positive\n",
              "2  I thought this was a wonderful way to spend ti...  positive\n",
              "3  Basically there's a family where a little boy ...  negative\n",
              "4  Petter Mattei's \"Love in the Time of Money\" is...  positive"
            ],
            "text/html": [
              "\n",
              "  <div id=\"df-2b654b57-33ee-4dfd-97ea-9ca9917c6461\" class=\"colab-df-container\">\n",
              "    <div>\n",
              "<style scoped>\n",
              "    .dataframe tbody tr th:only-of-type {\n",
              "        vertical-align: middle;\n",
              "    }\n",
              "\n",
              "    .dataframe tbody tr th {\n",
              "        vertical-align: top;\n",
              "    }\n",
              "\n",
              "    .dataframe thead th {\n",
              "        text-align: right;\n",
              "    }\n",
              "</style>\n",
              "<table border=\"1\" class=\"dataframe\">\n",
              "  <thead>\n",
              "    <tr style=\"text-align: right;\">\n",
              "      <th></th>\n",
              "      <th>review</th>\n",
              "      <th>sentiment</th>\n",
              "    </tr>\n",
              "  </thead>\n",
              "  <tbody>\n",
              "    <tr>\n",
              "      <th>0</th>\n",
              "      <td>One of the other reviewers has mentioned that ...</td>\n",
              "      <td>positive</td>\n",
              "    </tr>\n",
              "    <tr>\n",
              "      <th>1</th>\n",
              "      <td>A wonderful little production. &lt;br /&gt;&lt;br /&gt;The...</td>\n",
              "      <td>positive</td>\n",
              "    </tr>\n",
              "    <tr>\n",
              "      <th>2</th>\n",
              "      <td>I thought this was a wonderful way to spend ti...</td>\n",
              "      <td>positive</td>\n",
              "    </tr>\n",
              "    <tr>\n",
              "      <th>3</th>\n",
              "      <td>Basically there's a family where a little boy ...</td>\n",
              "      <td>negative</td>\n",
              "    </tr>\n",
              "    <tr>\n",
              "      <th>4</th>\n",
              "      <td>Petter Mattei's \"Love in the Time of Money\" is...</td>\n",
              "      <td>positive</td>\n",
              "    </tr>\n",
              "  </tbody>\n",
              "</table>\n",
              "</div>\n",
              "    <div class=\"colab-df-buttons\">\n",
              "\n",
              "  <div class=\"colab-df-container\">\n",
              "    <button class=\"colab-df-convert\" onclick=\"convertToInteractive('df-2b654b57-33ee-4dfd-97ea-9ca9917c6461')\"\n",
              "            title=\"Convert this dataframe to an interactive table.\"\n",
              "            style=\"display:none;\">\n",
              "\n",
              "  <svg xmlns=\"http://www.w3.org/2000/svg\" height=\"24px\" viewBox=\"0 -960 960 960\">\n",
              "    <path d=\"M120-120v-720h720v720H120Zm60-500h600v-160H180v160Zm220 220h160v-160H400v160Zm0 220h160v-160H400v160ZM180-400h160v-160H180v160Zm440 0h160v-160H620v160ZM180-180h160v-160H180v160Zm440 0h160v-160H620v160Z\"/>\n",
              "  </svg>\n",
              "    </button>\n",
              "\n",
              "  <style>\n",
              "    .colab-df-container {\n",
              "      display:flex;\n",
              "      gap: 12px;\n",
              "    }\n",
              "\n",
              "    .colab-df-convert {\n",
              "      background-color: #E8F0FE;\n",
              "      border: none;\n",
              "      border-radius: 50%;\n",
              "      cursor: pointer;\n",
              "      display: none;\n",
              "      fill: #1967D2;\n",
              "      height: 32px;\n",
              "      padding: 0 0 0 0;\n",
              "      width: 32px;\n",
              "    }\n",
              "\n",
              "    .colab-df-convert:hover {\n",
              "      background-color: #E2EBFA;\n",
              "      box-shadow: 0px 1px 2px rgba(60, 64, 67, 0.3), 0px 1px 3px 1px rgba(60, 64, 67, 0.15);\n",
              "      fill: #174EA6;\n",
              "    }\n",
              "\n",
              "    .colab-df-buttons div {\n",
              "      margin-bottom: 4px;\n",
              "    }\n",
              "\n",
              "    [theme=dark] .colab-df-convert {\n",
              "      background-color: #3B4455;\n",
              "      fill: #D2E3FC;\n",
              "    }\n",
              "\n",
              "    [theme=dark] .colab-df-convert:hover {\n",
              "      background-color: #434B5C;\n",
              "      box-shadow: 0px 1px 3px 1px rgba(0, 0, 0, 0.15);\n",
              "      filter: drop-shadow(0px 1px 2px rgba(0, 0, 0, 0.3));\n",
              "      fill: #FFFFFF;\n",
              "    }\n",
              "  </style>\n",
              "\n",
              "    <script>\n",
              "      const buttonEl =\n",
              "        document.querySelector('#df-2b654b57-33ee-4dfd-97ea-9ca9917c6461 button.colab-df-convert');\n",
              "      buttonEl.style.display =\n",
              "        google.colab.kernel.accessAllowed ? 'block' : 'none';\n",
              "\n",
              "      async function convertToInteractive(key) {\n",
              "        const element = document.querySelector('#df-2b654b57-33ee-4dfd-97ea-9ca9917c6461');\n",
              "        const dataTable =\n",
              "          await google.colab.kernel.invokeFunction('convertToInteractive',\n",
              "                                                    [key], {});\n",
              "        if (!dataTable) return;\n",
              "\n",
              "        const docLinkHtml = 'Like what you see? Visit the ' +\n",
              "          '<a target=\"_blank\" href=https://colab.research.google.com/notebooks/data_table.ipynb>data table notebook</a>'\n",
              "          + ' to learn more about interactive tables.';\n",
              "        element.innerHTML = '';\n",
              "        dataTable['output_type'] = 'display_data';\n",
              "        await google.colab.output.renderOutput(dataTable, element);\n",
              "        const docLink = document.createElement('div');\n",
              "        docLink.innerHTML = docLinkHtml;\n",
              "        element.appendChild(docLink);\n",
              "      }\n",
              "    </script>\n",
              "  </div>\n",
              "\n",
              "\n",
              "    <div id=\"df-02a30b35-6248-4259-a7d4-5316e56613f8\">\n",
              "      <button class=\"colab-df-quickchart\" onclick=\"quickchart('df-02a30b35-6248-4259-a7d4-5316e56613f8')\"\n",
              "                title=\"Suggest charts\"\n",
              "                style=\"display:none;\">\n",
              "\n",
              "<svg xmlns=\"http://www.w3.org/2000/svg\" height=\"24px\"viewBox=\"0 0 24 24\"\n",
              "     width=\"24px\">\n",
              "    <g>\n",
              "        <path d=\"M19 3H5c-1.1 0-2 .9-2 2v14c0 1.1.9 2 2 2h14c1.1 0 2-.9 2-2V5c0-1.1-.9-2-2-2zM9 17H7v-7h2v7zm4 0h-2V7h2v10zm4 0h-2v-4h2v4z\"/>\n",
              "    </g>\n",
              "</svg>\n",
              "      </button>\n",
              "\n",
              "<style>\n",
              "  .colab-df-quickchart {\n",
              "      --bg-color: #E8F0FE;\n",
              "      --fill-color: #1967D2;\n",
              "      --hover-bg-color: #E2EBFA;\n",
              "      --hover-fill-color: #174EA6;\n",
              "      --disabled-fill-color: #AAA;\n",
              "      --disabled-bg-color: #DDD;\n",
              "  }\n",
              "\n",
              "  [theme=dark] .colab-df-quickchart {\n",
              "      --bg-color: #3B4455;\n",
              "      --fill-color: #D2E3FC;\n",
              "      --hover-bg-color: #434B5C;\n",
              "      --hover-fill-color: #FFFFFF;\n",
              "      --disabled-bg-color: #3B4455;\n",
              "      --disabled-fill-color: #666;\n",
              "  }\n",
              "\n",
              "  .colab-df-quickchart {\n",
              "    background-color: var(--bg-color);\n",
              "    border: none;\n",
              "    border-radius: 50%;\n",
              "    cursor: pointer;\n",
              "    display: none;\n",
              "    fill: var(--fill-color);\n",
              "    height: 32px;\n",
              "    padding: 0;\n",
              "    width: 32px;\n",
              "  }\n",
              "\n",
              "  .colab-df-quickchart:hover {\n",
              "    background-color: var(--hover-bg-color);\n",
              "    box-shadow: 0 1px 2px rgba(60, 64, 67, 0.3), 0 1px 3px 1px rgba(60, 64, 67, 0.15);\n",
              "    fill: var(--button-hover-fill-color);\n",
              "  }\n",
              "\n",
              "  .colab-df-quickchart-complete:disabled,\n",
              "  .colab-df-quickchart-complete:disabled:hover {\n",
              "    background-color: var(--disabled-bg-color);\n",
              "    fill: var(--disabled-fill-color);\n",
              "    box-shadow: none;\n",
              "  }\n",
              "\n",
              "  .colab-df-spinner {\n",
              "    border: 2px solid var(--fill-color);\n",
              "    border-color: transparent;\n",
              "    border-bottom-color: var(--fill-color);\n",
              "    animation:\n",
              "      spin 1s steps(1) infinite;\n",
              "  }\n",
              "\n",
              "  @keyframes spin {\n",
              "    0% {\n",
              "      border-color: transparent;\n",
              "      border-bottom-color: var(--fill-color);\n",
              "      border-left-color: var(--fill-color);\n",
              "    }\n",
              "    20% {\n",
              "      border-color: transparent;\n",
              "      border-left-color: var(--fill-color);\n",
              "      border-top-color: var(--fill-color);\n",
              "    }\n",
              "    30% {\n",
              "      border-color: transparent;\n",
              "      border-left-color: var(--fill-color);\n",
              "      border-top-color: var(--fill-color);\n",
              "      border-right-color: var(--fill-color);\n",
              "    }\n",
              "    40% {\n",
              "      border-color: transparent;\n",
              "      border-right-color: var(--fill-color);\n",
              "      border-top-color: var(--fill-color);\n",
              "    }\n",
              "    60% {\n",
              "      border-color: transparent;\n",
              "      border-right-color: var(--fill-color);\n",
              "    }\n",
              "    80% {\n",
              "      border-color: transparent;\n",
              "      border-right-color: var(--fill-color);\n",
              "      border-bottom-color: var(--fill-color);\n",
              "    }\n",
              "    90% {\n",
              "      border-color: transparent;\n",
              "      border-bottom-color: var(--fill-color);\n",
              "    }\n",
              "  }\n",
              "</style>\n",
              "\n",
              "      <script>\n",
              "        async function quickchart(key) {\n",
              "          const quickchartButtonEl =\n",
              "            document.querySelector('#' + key + ' button');\n",
              "          quickchartButtonEl.disabled = true;  // To prevent multiple clicks.\n",
              "          quickchartButtonEl.classList.add('colab-df-spinner');\n",
              "          try {\n",
              "            const charts = await google.colab.kernel.invokeFunction(\n",
              "                'suggestCharts', [key], {});\n",
              "          } catch (error) {\n",
              "            console.error('Error during call to suggestCharts:', error);\n",
              "          }\n",
              "          quickchartButtonEl.classList.remove('colab-df-spinner');\n",
              "          quickchartButtonEl.classList.add('colab-df-quickchart-complete');\n",
              "        }\n",
              "        (() => {\n",
              "          let quickchartButtonEl =\n",
              "            document.querySelector('#df-02a30b35-6248-4259-a7d4-5316e56613f8 button');\n",
              "          quickchartButtonEl.style.display =\n",
              "            google.colab.kernel.accessAllowed ? 'block' : 'none';\n",
              "        })();\n",
              "      </script>\n",
              "    </div>\n",
              "\n",
              "    </div>\n",
              "  </div>\n"
            ],
            "application/vnd.google.colaboratory.intrinsic+json": {
              "type": "dataframe",
              "variable_name": "data",
              "summary": "{\n  \"name\": \"data\",\n  \"rows\": 50000,\n  \"fields\": [\n    {\n      \"column\": \"review\",\n      \"properties\": {\n        \"dtype\": \"string\",\n        \"num_unique_values\": 49582,\n        \"samples\": [\n          \"\\\"Soul Plane\\\" is a horrible attempt at comedy that only should appeal people with thick skulls, bloodshot eyes and furry pawns. <br /><br />The plot is not only incoherent but also non-existent, acting is mostly sub sub-par with a gang of highly moronic and dreadful characters thrown in for bad measure, jokes are often spotted miles ahead and almost never even a bit amusing. This movie lacks any structure and is full of racial stereotypes that must have seemed old even in the fifties, the only thing it really has going for it is some pretty ladies, but really, if you want that you can rent something from the \\\"Adult\\\" section. OK?<br /><br />I can hardly see anything here to recommend since you'll probably have a lot a better and productive time chasing rats with a sledgehammer or inventing waterproof teabags or whatever.<br /><br />2/10\",\n          \"Guest from the Future tells a fascinating story of time travel, friendship, battle of good and evil -- all with a small budget, child actors, and few special effects. Something for Spielberg and Lucas to learn from. ;) A sixth-grader Kolya \\\"Nick\\\" Gerasimov finds a time machine in the basement of a decrepit building and travels 100 years into the future. He discovers a near-perfect, utopian society where robots play guitars and write poetry, everyone is kind to each other and people enjoy everything technology has to offer. Alice is the daughter of a prominent scientist who invented a device called Mielophone that allows to read minds of humans and animals. The device can be put to both good and bad use, depending on whose hands it falls into. When two evil space pirates from Saturn who want to rule the universe attempt to steal Mielophone, it falls into the hands of 20th century school boy Nick. With the pirates hot on his tracks, he travels back to his time, followed by the pirates, and Alice. Chaos, confusion and funny situations follow as the luckless pirates try to blend in with the earthlings. Alice enrolls in the same school Nick goes to and demonstrates superhuman abilities in PE class. The catch is, Alice doesn't know what Nick looks like, while the pirates do. Also, the pirates are able to change their appearance and turn literally into anyone. (Hmm, I wonder if this is where James Cameron got the idea for Terminator...) Who gets to Nick -- and Mielophone -- first? Excellent plot, non-stop adventures, and great soundtrack. I wish Hollywood made kid movies like this one...\",\n          \"\\\"National Treasure\\\" (2004) is a thoroughly misguided hodge-podge of plot entanglements that borrow from nearly every cloak and dagger government conspiracy clich\\u00e9 that has ever been written. The film stars Nicholas Cage as Benjamin Franklin Gates (how precious is that, I ask you?); a seemingly normal fellow who, for no other reason than being of a lineage of like-minded misguided fortune hunters, decides to steal a 'national treasure' that has been hidden by the United States founding fathers. After a bit of subtext and background that plays laughably (unintentionally) like Indiana Jones meets The Patriot, the film degenerates into one misguided whimsy after another \\u0096 attempting to create a 'Stanley Goodspeed' regurgitation of Nicholas Cage and launch the whole convoluted mess forward with a series of high octane, but disconnected misadventures.<br /><br />The relevancy and logic to having George Washington and his motley crew of patriots burying a king's ransom someplace on native soil, and then, going through the meticulous plan of leaving clues scattered throughout U.S. currency art work, is something that director Jon Turteltaub never quite gets around to explaining. Couldn't Washington found better usage for such wealth during the start up of the country? Hence, we are left with a mystery built on top of an enigma that is already on shaky ground by the time Ben appoints himself the new custodian of this untold wealth. Ben's intentions are noble \\u0096 if confusing. He's set on protecting the treasure. For who and when?\\u0085your guess is as good as mine.<br /><br />But there are a few problems with Ben's crusade. First up, his friend, Ian Holmes (Sean Bean) decides that he can't wait for Ben to make up his mind about stealing the Declaration of Independence from the National Archives (oh, yeah \\u0096 brilliant idea!). Presumably, the back of that famous document holds the secret answer to the ultimate fortune. So Ian tries to kill Ben. The assassination attempt is, of course, unsuccessful, if overly melodramatic. It also affords Ben the opportunity to pick up, and pick on, the very sultry curator of the archives, Abigail Chase (Diane Kruger). She thinks Ben is clearly a nut \\u0096 at least at the beginning. But true to action/romance form, Abby's resolve melts quicker than you can say, \\\"is that the Hope Diamond?\\\" The film moves into full X-File-ish mode, as the FBI, mistakenly believing that Ben is behind the theft, retaliate in various benign ways that lead to a multi-layering of action sequences reminiscent of Mission Impossible meets The Fugitive. Honestly, don't those guys ever get 'intelligence' information that is correct? In the final analysis, \\\"National Treasure\\\" isn't great film making, so much as it's a patchwork rehash of tired old bits from other movies, woven together from scraps, the likes of which would make IL' Betsy Ross blush.<br /><br />The Buena Vista DVD delivers a far more generous treatment than this film is deserving of. The anamorphic widescreen picture exhibits a very smooth and finely detailed image with very rich colors, natural flesh tones, solid blacks and clean whites. The stylized image is also free of blemishes and digital enhancements. The audio is 5.1 and delivers a nice sonic boom to your side and rear speakers with intensity and realism. Extras include a host of promotional junket material that is rather deep and over the top in its explanation of how and why this film was made. If only, as an audience, we had had more clarification as to why Ben and co. were chasing after an illusive treasure, this might have been one good flick. Extras conclude with the theatrical trailer, audio commentary and deleted scenes. Not for the faint-hearted \\u0096 just the thick-headed.\"\n        ],\n        \"semantic_type\": \"\",\n        \"description\": \"\"\n      }\n    },\n    {\n      \"column\": \"sentiment\",\n      \"properties\": {\n        \"dtype\": \"category\",\n        \"num_unique_values\": 2,\n        \"samples\": [\n          \"negative\",\n          \"positive\"\n        ],\n        \"semantic_type\": \"\",\n        \"description\": \"\"\n      }\n    }\n  ]\n}"
            }
          },
          "metadata": {},
          "execution_count": 6
        }
      ]
    },
    {
      "cell_type": "code",
      "source": [
        "data.shape\n"
      ],
      "metadata": {
        "id": "nx9QIr8R8jkd",
        "colab": {
          "base_uri": "https://localhost:8080/"
        },
        "outputId": "cdc729dc-ad23-445e-bd6d-604a80cd2066"
      },
      "execution_count": 7,
      "outputs": [
        {
          "output_type": "execute_result",
          "data": {
            "text/plain": [
              "(50000, 2)"
            ]
          },
          "metadata": {},
          "execution_count": 7
        }
      ]
    },
    {
      "cell_type": "code",
      "source": [
        "data['sentiment'].value_counts()"
      ],
      "metadata": {
        "id": "-Xd9Fsn4CEv9",
        "colab": {
          "base_uri": "https://localhost:8080/",
          "height": 178
        },
        "outputId": "d4a3980e-4434-4ebe-bf7a-08cfcc307f54"
      },
      "execution_count": 8,
      "outputs": [
        {
          "output_type": "execute_result",
          "data": {
            "text/plain": [
              "sentiment\n",
              "positive    25000\n",
              "negative    25000\n",
              "Name: count, dtype: int64"
            ],
            "text/html": [
              "<div>\n",
              "<style scoped>\n",
              "    .dataframe tbody tr th:only-of-type {\n",
              "        vertical-align: middle;\n",
              "    }\n",
              "\n",
              "    .dataframe tbody tr th {\n",
              "        vertical-align: top;\n",
              "    }\n",
              "\n",
              "    .dataframe thead th {\n",
              "        text-align: right;\n",
              "    }\n",
              "</style>\n",
              "<table border=\"1\" class=\"dataframe\">\n",
              "  <thead>\n",
              "    <tr style=\"text-align: right;\">\n",
              "      <th></th>\n",
              "      <th>count</th>\n",
              "    </tr>\n",
              "    <tr>\n",
              "      <th>sentiment</th>\n",
              "      <th></th>\n",
              "    </tr>\n",
              "  </thead>\n",
              "  <tbody>\n",
              "    <tr>\n",
              "      <th>positive</th>\n",
              "      <td>25000</td>\n",
              "    </tr>\n",
              "    <tr>\n",
              "      <th>negative</th>\n",
              "      <td>25000</td>\n",
              "    </tr>\n",
              "  </tbody>\n",
              "</table>\n",
              "</div><br><label><b>dtype:</b> int64</label>"
            ]
          },
          "metadata": {},
          "execution_count": 8
        }
      ]
    },
    {
      "cell_type": "code",
      "source": [
        "data.info()"
      ],
      "metadata": {
        "id": "2RKe2n3rEGXX",
        "colab": {
          "base_uri": "https://localhost:8080/"
        },
        "outputId": "e053466f-a0ea-40ae-edd2-bb8afad59169"
      },
      "execution_count": 9,
      "outputs": [
        {
          "output_type": "stream",
          "name": "stdout",
          "text": [
            "<class 'pandas.core.frame.DataFrame'>\n",
            "RangeIndex: 50000 entries, 0 to 49999\n",
            "Data columns (total 2 columns):\n",
            " #   Column     Non-Null Count  Dtype \n",
            "---  ------     --------------  ----- \n",
            " 0   review     50000 non-null  object\n",
            " 1   sentiment  50000 non-null  object\n",
            "dtypes: object(2)\n",
            "memory usage: 781.4+ KB\n"
          ]
        }
      ]
    },
    {
      "cell_type": "code",
      "source": [
        "## Calculate the number of words in each review\n",
        "data['review'].apply(lambda x: len(str(x).split()))\n"
      ],
      "metadata": {
        "id": "EyCgahpDIgZH",
        "colab": {
          "base_uri": "https://localhost:8080/",
          "height": 458
        },
        "outputId": "e55b9413-7a89-44e0-8ce8-d130db953e78"
      },
      "execution_count": 10,
      "outputs": [
        {
          "output_type": "execute_result",
          "data": {
            "text/plain": [
              "0        307\n",
              "1        162\n",
              "2        166\n",
              "3        138\n",
              "4        230\n",
              "        ... \n",
              "49995    194\n",
              "49996    112\n",
              "49997    230\n",
              "49998    212\n",
              "49999    129\n",
              "Name: review, Length: 50000, dtype: int64"
            ],
            "text/html": [
              "<div>\n",
              "<style scoped>\n",
              "    .dataframe tbody tr th:only-of-type {\n",
              "        vertical-align: middle;\n",
              "    }\n",
              "\n",
              "    .dataframe tbody tr th {\n",
              "        vertical-align: top;\n",
              "    }\n",
              "\n",
              "    .dataframe thead th {\n",
              "        text-align: right;\n",
              "    }\n",
              "</style>\n",
              "<table border=\"1\" class=\"dataframe\">\n",
              "  <thead>\n",
              "    <tr style=\"text-align: right;\">\n",
              "      <th></th>\n",
              "      <th>review</th>\n",
              "    </tr>\n",
              "  </thead>\n",
              "  <tbody>\n",
              "    <tr>\n",
              "      <th>0</th>\n",
              "      <td>307</td>\n",
              "    </tr>\n",
              "    <tr>\n",
              "      <th>1</th>\n",
              "      <td>162</td>\n",
              "    </tr>\n",
              "    <tr>\n",
              "      <th>2</th>\n",
              "      <td>166</td>\n",
              "    </tr>\n",
              "    <tr>\n",
              "      <th>3</th>\n",
              "      <td>138</td>\n",
              "    </tr>\n",
              "    <tr>\n",
              "      <th>4</th>\n",
              "      <td>230</td>\n",
              "    </tr>\n",
              "    <tr>\n",
              "      <th>...</th>\n",
              "      <td>...</td>\n",
              "    </tr>\n",
              "    <tr>\n",
              "      <th>49995</th>\n",
              "      <td>194</td>\n",
              "    </tr>\n",
              "    <tr>\n",
              "      <th>49996</th>\n",
              "      <td>112</td>\n",
              "    </tr>\n",
              "    <tr>\n",
              "      <th>49997</th>\n",
              "      <td>230</td>\n",
              "    </tr>\n",
              "    <tr>\n",
              "      <th>49998</th>\n",
              "      <td>212</td>\n",
              "    </tr>\n",
              "    <tr>\n",
              "      <th>49999</th>\n",
              "      <td>129</td>\n",
              "    </tr>\n",
              "  </tbody>\n",
              "</table>\n",
              "<p>50000 rows × 1 columns</p>\n",
              "</div><br><label><b>dtype:</b> int64</label>"
            ]
          },
          "metadata": {},
          "execution_count": 10
        }
      ]
    },
    {
      "cell_type": "markdown",
      "source": [
        "# Text Preprocessing"
      ],
      "metadata": {
        "id": "BtqsNfQJSpUN"
      }
    },
    {
      "cell_type": "code",
      "source": [
        "import re\n",
        "import nltk\n",
        "from nltk.corpus import stopwords\n",
        "from nltk.stem import WordNetLemmatizer\n",
        "from collections import Counter\n",
        "from wordcloud import WordCloud\n",
        "import matplotlib.pyplot as plt\n",
        "from tensorflow.keras.preprocessing.text import Tokenizer\n",
        "from tensorflow.keras.preprocessing.sequence import pad_sequences\n",
        "import numpy as np\n"
      ],
      "metadata": {
        "id": "vKHldMR2jBC2"
      },
      "execution_count": 11,
      "outputs": []
    },
    {
      "cell_type": "code",
      "source": [
        "\n",
        "# Download required NLTK resources\n",
        "nltk.download(\"stopwords\")      # List of common stop words (e.g. \"the\", \"and\", \"is\", etc.)\n",
        "nltk.download(\"wordnet\")        # WordNet lemmatizer resource\n",
        "nltk.download(\"punkt\")          # Tokenizer for breaking text into words\n",
        "nltk.download(\"punkt_tab\")\n",
        "\n",
        "# Define important negation words we want to keep\n",
        "important_words = {\"not\", \"no\", \"nor\", \"never\"}\n",
        "\n",
        "# Load the list of stopwords and remove the important negation words from it\n",
        "stop_words = set(stopwords.words(\"english\")) - important_words\n",
        "\n",
        "\n",
        "# Initialize the WordNet lemmatizer\n",
        "lemmatizer = WordNetLemmatizer()\n",
        "\n",
        "# Define a function to clean and preprocess text\n",
        "def clean_text(text):\n",
        "    # Remove HTML tags like <br />, <p>, etc.\n",
        "    text = re.sub(r'<.*?>', ' ', text)\n",
        "\n",
        "    # Convert all characters to lowercase to ensure consistency\n",
        "    text = text.lower()\n",
        "\n",
        "    # Remove any characters that are not letters (a-z) or whitespace\n",
        "    text = re.sub(r'[^a-z\\s]', '', text)\n",
        "\n",
        "    # Remove extra whitespace (e.g., multiple spaces or newlines)\n",
        "    text = re.sub(r'\\s+', ' ', text).strip()\n",
        "\n",
        "    # Tokenize the cleaned text into individual words\n",
        "    tokens = nltk.word_tokenize(text)\n",
        "\n",
        "    # Remove stopwords (except negations) and apply lemmatization to each word\n",
        "    tokens = [lemmatizer.lemmatize(word) for word in tokens if word not in stop_words]\n",
        "\n",
        "    # Join the tokens back into a single string\n",
        "    return \" \".join(tokens)"
      ],
      "metadata": {
        "id": "WQDJge8WWh0z",
        "colab": {
          "base_uri": "https://localhost:8080/"
        },
        "outputId": "d2da4d35-46f9-481d-f6aa-6f8836f29925"
      },
      "execution_count": 12,
      "outputs": [
        {
          "output_type": "stream",
          "name": "stderr",
          "text": [
            "[nltk_data] Downloading package stopwords to /root/nltk_data...\n",
            "[nltk_data]   Unzipping corpora/stopwords.zip.\n",
            "[nltk_data] Downloading package wordnet to /root/nltk_data...\n",
            "[nltk_data] Downloading package punkt to /root/nltk_data...\n",
            "[nltk_data]   Unzipping tokenizers/punkt.zip.\n",
            "[nltk_data] Downloading package punkt_tab to /root/nltk_data...\n",
            "[nltk_data]   Unzipping tokenizers/punkt_tab.zip.\n"
          ]
        }
      ]
    },
    {
      "cell_type": "code",
      "source": [
        "data[\"update_review\"] = data[\"review\"].apply(clean_text)"
      ],
      "metadata": {
        "id": "K6XMsRMnjjbA"
      },
      "execution_count": 13,
      "outputs": []
    },
    {
      "cell_type": "code",
      "source": [
        "data[\"review\"][1]\n"
      ],
      "metadata": {
        "id": "y_pj8plhkNYz",
        "colab": {
          "base_uri": "https://localhost:8080/",
          "height": 191
        },
        "outputId": "35a9a39d-e84e-4686-cd8f-5aad9dd97c55"
      },
      "execution_count": 14,
      "outputs": [
        {
          "output_type": "execute_result",
          "data": {
            "text/plain": [
              "'A wonderful little production. <br /><br />The filming technique is very unassuming- very old-time-BBC fashion and gives a comforting, and sometimes discomforting, sense of realism to the entire piece. <br /><br />The actors are extremely well chosen- Michael Sheen not only \"has got all the polari\" but he has all the voices down pat too! You can truly see the seamless editing guided by the references to Williams\\' diary entries, not only is it well worth the watching but it is a terrificly written and performed piece. A masterful production about one of the great master\\'s of comedy and his life. <br /><br />The realism really comes home with the little things: the fantasy of the guard which, rather than use the traditional \\'dream\\' techniques remains solid then disappears. It plays on our knowledge and our senses, particularly with the scenes concerning Orton and Halliwell and the sets (particularly of their flat with Halliwell\\'s murals decorating every surface) are terribly well done.'"
            ],
            "application/vnd.google.colaboratory.intrinsic+json": {
              "type": "string"
            }
          },
          "metadata": {},
          "execution_count": 14
        }
      ]
    },
    {
      "cell_type": "code",
      "source": [
        "data[\"update_review\"][1]"
      ],
      "metadata": {
        "id": "kM6c270vkm2D",
        "colab": {
          "base_uri": "https://localhost:8080/",
          "height": 122
        },
        "outputId": "7dfe457e-2833-46b0-fbb8-b7c21ed82b9f"
      },
      "execution_count": 15,
      "outputs": [
        {
          "output_type": "execute_result",
          "data": {
            "text/plain": [
              "'wonderful little production filming technique unassuming oldtimebbc fashion give comforting sometimes discomforting sense realism entire piece actor extremely well chosen michael sheen not got polari voice pat truly see seamless editing guided reference williams diary entry not well worth watching terrificly written performed piece masterful production one great master comedy life realism really come home little thing fantasy guard rather use traditional dream technique remains solid disappears play knowledge sens particularly scene concerning orton halliwell set particularly flat halliwells mural decorating every surface terribly well done'"
            ],
            "application/vnd.google.colaboratory.intrinsic+json": {
              "type": "string"
            }
          },
          "metadata": {},
          "execution_count": 15
        }
      ]
    },
    {
      "cell_type": "code",
      "source": [
        "text = \" \".join(data[\"update_review\"])\n",
        "wordcloud = WordCloud(width=800, height=400, background_color='white').generate(text)\n",
        "\n",
        "plt.figure(figsize=(12, 6))\n",
        "plt.imshow(wordcloud, interpolation='bilinear')\n",
        "plt.axis('off')\n",
        "plt.show()"
      ],
      "metadata": {
        "id": "iiZh-4iPlMNH",
        "colab": {
          "base_uri": "https://localhost:8080/",
          "height": 454
        },
        "outputId": "5445d587-775f-46dc-afbd-567c3819af11"
      },
      "execution_count": 16,
      "outputs": [
        {
          "output_type": "display_data",
          "data": {
            "text/plain": [
              "<Figure size 1200x600 with 1 Axes>"
            ],
            "image/png": "[encoded data removed]"
          },
          "metadata": {}
        }
      ]
    },
    {
      "cell_type": "code",
      "source": [
        "all_tokens = \" \".join(data[\"update_review\"]).split()\n",
        "\n",
        "word_freq = Counter(all_tokens)\n",
        "\n",
        "most_common = word_freq.most_common()\n",
        "most_common"
      ],
      "metadata": {
        "id": "YWxDaiyYv7s9",
        "colab": {
          "base_uri": "https://localhost:8080/"
        },
        "outputId": "f2fb97e8-8412-4cf9-e5c5-77fcf90a8a6c"
      },
      "execution_count": 17,
      "outputs": [
        {
          "output_type": "execute_result",
          "data": {
            "text/plain": [
              "[('movie', 100957),\n",
              " ('film', 91574),\n",
              " ('not', 62161),\n",
              " ('one', 53811),\n",
              " ('like', 40022),\n",
              " ('time', 30249),\n",
              " ('good', 29030),\n",
              " ('character', 27982),\n",
              " ('story', 24740),\n",
              " ('even', 24587),\n",
              " ('get', 24517),\n",
              " ('no', 24504),\n",
              " ('would', 24036),\n",
              " ('see', 23700),\n",
              " ('make', 23622),\n",
              " ('really', 23014),\n",
              " ('scene', 21087),\n",
              " ('well', 19400),\n",
              " ('much', 19110),\n",
              " ('people', 18211),\n",
              " ('great', 18017),\n",
              " ('bad', 18005),\n",
              " ('also', 17859),\n",
              " ('first', 17212),\n",
              " ('show', 17114),\n",
              " ('dont', 16976),\n",
              " ('way', 16935),\n",
              " ('thing', 16353),\n",
              " ('made', 15559),\n",
              " ('could', 15174),\n",
              " ('think', 15169),\n",
              " ('life', 14791),\n",
              " ('go', 14429),\n",
              " ('know', 14196),\n",
              " ('watch', 14018),\n",
              " ('love', 13526),\n",
              " ('many', 13390),\n",
              " ('seen', 13302),\n",
              " ('actor', 13178),\n",
              " ('plot', 13136),\n",
              " ('two', 13092),\n",
              " ('say', 12933),\n",
              " ('never', 12881),\n",
              " ('end', 12760),\n",
              " ('look', 12663),\n",
              " ('acting', 12611),\n",
              " ('year', 12498),\n",
              " ('best', 12441),\n",
              " ('little', 12354),\n",
              " ('ever', 11756),\n",
              " ('better', 11305),\n",
              " ('man', 11159),\n",
              " ('take', 11118),\n",
              " ('come', 10951),\n",
              " ('still', 10815),\n",
              " ('work', 10674),\n",
              " ('part', 10122),\n",
              " ('find', 9982),\n",
              " ('something', 9956),\n",
              " ('want', 9816),\n",
              " ('give', 9725),\n",
              " ('lot', 9671),\n",
              " ('im', 9481),\n",
              " ('back', 9453),\n",
              " ('director', 9291),\n",
              " ('watching', 9084),\n",
              " ('real', 9075),\n",
              " ('guy', 9031),\n",
              " ('performance', 8983),\n",
              " ('doesnt', 8902),\n",
              " ('didnt', 8848),\n",
              " ('play', 8723),\n",
              " ('woman', 8568),\n",
              " ('though', 8566),\n",
              " ('funny', 8549),\n",
              " ('another', 8519),\n",
              " ('actually', 8433),\n",
              " ('nothing', 8290),\n",
              " ('role', 8247),\n",
              " ('u', 8122),\n",
              " ('going', 8118),\n",
              " ('new', 7986),\n",
              " ('every', 7936),\n",
              " ('old', 7912),\n",
              " ('girl', 7599),\n",
              " ('cant', 7520),\n",
              " ('point', 7503),\n",
              " ('world', 7484),\n",
              " ('day', 7415),\n",
              " ('cast', 7401),\n",
              " ('thats', 7354),\n",
              " ('minute', 7302),\n",
              " ('fact', 7289),\n",
              " ('quite', 7240),\n",
              " ('got', 7214),\n",
              " ('feel', 7201),\n",
              " ('pretty', 7197),\n",
              " ('thought', 7128),\n",
              " ('seems', 7064),\n",
              " ('around', 7062),\n",
              " ('comedy', 7062),\n",
              " ('young', 6987),\n",
              " ('horror', 6974),\n",
              " ('however', 6853),\n",
              " ('enough', 6843),\n",
              " ('right', 6726),\n",
              " ('big', 6695),\n",
              " ('ive', 6663),\n",
              " ('action', 6640),\n",
              " ('star', 6593),\n",
              " ('may', 6589),\n",
              " ('fan', 6557),\n",
              " ('bit', 6534),\n",
              " ('friend', 6470),\n",
              " ('line', 6435),\n",
              " ('long', 6396),\n",
              " ('without', 6390),\n",
              " ('original', 6367),\n",
              " ('music', 6332),\n",
              " ('isnt', 6330),\n",
              " ('saw', 6316),\n",
              " ('always', 6288),\n",
              " ('series', 6247),\n",
              " ('family', 6226),\n",
              " ('almost', 6191),\n",
              " ('must', 6169),\n",
              " ('there', 6122),\n",
              " ('script', 6122),\n",
              " ('interesting', 6118),\n",
              " ('whole', 6105),\n",
              " ('least', 6083),\n",
              " ('set', 6082),\n",
              " ('try', 5992),\n",
              " ('done', 5969),\n",
              " ('kid', 5935),\n",
              " ('shot', 5836),\n",
              " ('kind', 5819),\n",
              " ('far', 5788),\n",
              " ('last', 5782),\n",
              " ('might', 5737),\n",
              " ('he', 5717),\n",
              " ('anything', 5717),\n",
              " ('since', 5692),\n",
              " ('effect', 5676),\n",
              " ('reason', 5671),\n",
              " ('start', 5669),\n",
              " ('probably', 5583),\n",
              " ('book', 5514),\n",
              " ('tv', 5485),\n",
              " ('put', 5477),\n",
              " ('place', 5450),\n",
              " ('away', 5409),\n",
              " ('moment', 5370),\n",
              " ('yet', 5366),\n",
              " ('let', 5284),\n",
              " ('fun', 5277),\n",
              " ('worst', 5277),\n",
              " ('rather', 5261),\n",
              " ('sure', 5229),\n",
              " ('anyone', 5224),\n",
              " ('audience', 5188),\n",
              " ('idea', 5187),\n",
              " ('found', 5142),\n",
              " ('need', 5132),\n",
              " ('played', 5091),\n",
              " ('making', 5045),\n",
              " ('tell', 5031),\n",
              " ('turn', 5004),\n",
              " ('child', 4989),\n",
              " ('believe', 4959),\n",
              " ('dvd', 4940),\n",
              " ('although', 4919),\n",
              " ('episode', 4893),\n",
              " ('trying', 4877),\n",
              " ('course', 4874),\n",
              " ('american', 4852),\n",
              " ('ending', 4838),\n",
              " ('especially', 4817),\n",
              " ('hard', 4752),\n",
              " ('job', 4742),\n",
              " ('everything', 4740),\n",
              " ('screen', 4729),\n",
              " ('war', 4725),\n",
              " ('mean', 4710),\n",
              " ('worth', 4647),\n",
              " ('different', 4639),\n",
              " ('someone', 4633),\n",
              " ('maybe', 4616),\n",
              " ('looking', 4611),\n",
              " ('main', 4593),\n",
              " ('problem', 4534),\n",
              " ('sense', 4528),\n",
              " ('wasnt', 4525),\n",
              " ('three', 4495),\n",
              " ('keep', 4487),\n",
              " ('version', 4477),\n",
              " ('watched', 4474),\n",
              " ('money', 4436),\n",
              " ('true', 4414),\n",
              " ('together', 4386),\n",
              " ('help', 4379),\n",
              " ('night', 4359),\n",
              " ('second', 4323),\n",
              " ('said', 4272),\n",
              " ('instead', 4265),\n",
              " ('boy', 4260),\n",
              " ('everyone', 4245),\n",
              " ('later', 4234),\n",
              " ('seem', 4219),\n",
              " ('special', 4212),\n",
              " ('death', 4190),\n",
              " ('john', 4167),\n",
              " ('beautiful', 4163),\n",
              " ('seeing', 4137),\n",
              " ('left', 4098),\n",
              " ('laugh', 4090),\n",
              " ('black', 4087),\n",
              " ('lead', 4087),\n",
              " ('wife', 4087),\n",
              " ('hour', 4078),\n",
              " ('excellent', 4070),\n",
              " ('mind', 4050),\n",
              " ('short', 4033),\n",
              " ('sound', 4028),\n",
              " ('house', 4023),\n",
              " ('classic', 4003),\n",
              " ('name', 3949),\n",
              " ('viewer', 3914),\n",
              " ('read', 3902),\n",
              " ('high', 3864),\n",
              " ('father', 3847),\n",
              " ('simply', 3844),\n",
              " ('youre', 3829),\n",
              " ('else', 3828),\n",
              " ('completely', 3817),\n",
              " ('production', 3814),\n",
              " ('piece', 3810),\n",
              " ('nice', 3806),\n",
              " ('used', 3795),\n",
              " ('face', 3790),\n",
              " ('poor', 3788),\n",
              " ('eye', 3751),\n",
              " ('along', 3717),\n",
              " ('home', 3715),\n",
              " ('picture', 3701),\n",
              " ('men', 3699),\n",
              " ('human', 3641),\n",
              " ('song', 3638),\n",
              " ('couple', 3625),\n",
              " ('either', 3612),\n",
              " ('hollywood', 3587),\n",
              " ('word', 3584),\n",
              " ('boring', 3581),\n",
              " ('less', 3567),\n",
              " ('enjoy', 3555),\n",
              " ('given', 3551),\n",
              " ('half', 3548),\n",
              " ('use', 3547),\n",
              " ('wrong', 3544),\n",
              " ('rest', 3520),\n",
              " ('head', 3511),\n",
              " ('camera', 3492),\n",
              " ('truly', 3458),\n",
              " ('dead', 3458),\n",
              " ('next', 3451),\n",
              " ('stupid', 3450),\n",
              " ('video', 3444),\n",
              " ('school', 3441),\n",
              " ('hope', 3416),\n",
              " ('recommend', 3402),\n",
              " ('kill', 3396),\n",
              " ('hand', 3360),\n",
              " ('person', 3342),\n",
              " ('game', 3312),\n",
              " ('came', 3306),\n",
              " ('others', 3301),\n",
              " ('awful', 3300),\n",
              " ('getting', 3299),\n",
              " ('remember', 3297),\n",
              " ('understand', 3293),\n",
              " ('mr', 3282),\n",
              " ('full', 3282),\n",
              " ('terrible', 3282),\n",
              " ('title', 3270),\n",
              " ('sex', 3260),\n",
              " ('sort', 3258),\n",
              " ('case', 3257),\n",
              " ('dialogue', 3254),\n",
              " ('perhaps', 3242),\n",
              " ('budget', 3214),\n",
              " ('act', 3211),\n",
              " ('top', 3208),\n",
              " ('run', 3202),\n",
              " ('wonderful', 3191),\n",
              " ('attempt', 3183),\n",
              " ('mother', 3181),\n",
              " ('care', 3176),\n",
              " ('fall', 3147),\n",
              " ('playing', 3141),\n",
              " ('flick', 3141),\n",
              " ('joke', 3110),\n",
              " ('review', 3110),\n",
              " ('sequence', 3095),\n",
              " ('definitely', 3091),\n",
              " ('often', 3084),\n",
              " ('style', 3076),\n",
              " ('perfect', 3076),\n",
              " ('small', 3050),\n",
              " ('couldnt', 3047),\n",
              " ('early', 3032),\n",
              " ('example', 3010),\n",
              " ('went', 3003),\n",
              " ('absolutely', 2986),\n",
              " ('finally', 2983),\n",
              " ('feeling', 2979),\n",
              " ('brother', 2971),\n",
              " ('killer', 2966),\n",
              " ('cinema', 2960),\n",
              " ('certainly', 2955),\n",
              " ('become', 2936),\n",
              " ('liked', 2930),\n",
              " ('quality', 2927),\n",
              " ('drama', 2899),\n",
              " ('worse', 2893),\n",
              " ('loved', 2892),\n",
              " ('entertaining', 2891),\n",
              " ('lost', 2885),\n",
              " ('yes', 2884),\n",
              " ('actress', 2884),\n",
              " ('waste', 2883),\n",
              " ('car', 2875),\n",
              " ('felt', 2863),\n",
              " ('entire', 2857),\n",
              " ('overall', 2856),\n",
              " ('supposed', 2848),\n",
              " ('written', 2846),\n",
              " ('several', 2846),\n",
              " ('art', 2846),\n",
              " ('live', 2844),\n",
              " ('direction', 2823),\n",
              " ('beginning', 2818),\n",
              " ('writer', 2813),\n",
              " ('matter', 2810),\n",
              " ('lack', 2809),\n",
              " ('comment', 2796),\n",
              " ('begin', 2766),\n",
              " ('side', 2758),\n",
              " ('favorite', 2756),\n",
              " ('oh', 2748),\n",
              " ('son', 2747),\n",
              " ('feature', 2746),\n",
              " ('based', 2735),\n",
              " ('totally', 2734),\n",
              " ('shes', 2730),\n",
              " ('wanted', 2706),\n",
              " ('seemed', 2703),\n",
              " ('dark', 2693),\n",
              " ('fight', 2691),\n",
              " ('id', 2690),\n",
              " ('humor', 2690),\n",
              " ('evil', 2680),\n",
              " ('final', 2675),\n",
              " ('throughout', 2667),\n",
              " ('despite', 2666),\n",
              " ('white', 2665),\n",
              " ('guess', 2665),\n",
              " ('murder', 2665),\n",
              " ('already', 2655),\n",
              " ('change', 2652),\n",
              " ('wont', 2643),\n",
              " ('becomes', 2642),\n",
              " ('youll', 2630),\n",
              " ('relationship', 2624),\n",
              " ('low', 2619),\n",
              " ('meet', 2605),\n",
              " ('called', 2597),\n",
              " ('unfortunately', 2590),\n",
              " ('experience', 2580),\n",
              " ('able', 2579),\n",
              " ('hero', 2575),\n",
              " ('history', 2561),\n",
              " ('today', 2560),\n",
              " ('heart', 2559),\n",
              " ('number', 2554),\n",
              " ('michael', 2550),\n",
              " ('fine', 2521),\n",
              " ('type', 2516),\n",
              " ('writing', 2507),\n",
              " ('genre', 2497),\n",
              " ('horrible', 2494),\n",
              " ('amazing', 2486),\n",
              " ('town', 2482),\n",
              " ('daughter', 2468),\n",
              " ('group', 2467),\n",
              " ('theyre', 2459),\n",
              " ('move', 2457),\n",
              " ('city', 2453),\n",
              " ('call', 2452),\n",
              " ('hit', 2429),\n",
              " ('past', 2428),\n",
              " ('voice', 2422),\n",
              " ('enjoyed', 2410),\n",
              " ('gave', 2402),\n",
              " ('talent', 2396),\n",
              " ('cut', 2391),\n",
              " ('stuff', 2387),\n",
              " ('event', 2386),\n",
              " ('power', 2382),\n",
              " ('brilliant', 2368),\n",
              " ('robert', 2365),\n",
              " ('god', 2365),\n",
              " ('add', 2361),\n",
              " ('behind', 2356),\n",
              " ('situation', 2355),\n",
              " ('save', 2353),\n",
              " ('expect', 2349),\n",
              " ('age', 2348),\n",
              " ('credit', 2345),\n",
              " ('theme', 2331),\n",
              " ('chance', 2326),\n",
              " ('wonder', 2320),\n",
              " ('stop', 2317),\n",
              " ('obviously', 2312),\n",
              " ('body', 2295),\n",
              " ('sometimes', 2285),\n",
              " ('score', 2284),\n",
              " ('killed', 2282),\n",
              " ('soon', 2280),\n",
              " ('directed', 2275),\n",
              " ('etc', 2268),\n",
              " ('thinking', 2259),\n",
              " ('question', 2258),\n",
              " ('level', 2254),\n",
              " ('hell', 2244),\n",
              " ('late', 2242),\n",
              " ('ill', 2234),\n",
              " ('took', 2228),\n",
              " ('decent', 2228),\n",
              " ('highly', 2224),\n",
              " ('heard', 2204),\n",
              " ('happens', 2201),\n",
              " ('element', 2182),\n",
              " ('view', 2181),\n",
              " ('wish', 2180),\n",
              " ('close', 2173),\n",
              " ('anyway', 2164),\n",
              " ('except', 2156),\n",
              " ('talk', 2136),\n",
              " ('career', 2133),\n",
              " ('blood', 2132),\n",
              " ('country', 2128),\n",
              " ('leave', 2125),\n",
              " ('novel', 2123),\n",
              " ('order', 2121),\n",
              " ('rating', 2121),\n",
              " ('extremely', 2119),\n",
              " ('monster', 2116),\n",
              " ('stand', 2113),\n",
              " ('wouldnt', 2112),\n",
              " ('told', 2108),\n",
              " ('coming', 2106),\n",
              " ('police', 2104),\n",
              " ('involved', 2088),\n",
              " ('interest', 2084),\n",
              " ('documentary', 2081),\n",
              " ('effort', 2073),\n",
              " ('happen', 2072),\n",
              " ('hilarious', 2069),\n",
              " ('ok', 2066),\n",
              " ('looked', 2066),\n",
              " ('reality', 2066),\n",
              " ('strong', 2063),\n",
              " ('living', 2050),\n",
              " ('violence', 2047),\n",
              " ('light', 2044),\n",
              " ('particularly', 2042),\n",
              " ('david', 2041),\n",
              " ('husband', 2038),\n",
              " ('opinion', 2038),\n",
              " ('happened', 2036),\n",
              " ('complete', 2032),\n",
              " ('deal', 2032),\n",
              " ('including', 2029),\n",
              " ('james', 2025),\n",
              " ('obvious', 2025),\n",
              " ('shown', 2022),\n",
              " ('serious', 2019),\n",
              " ('simple', 2017),\n",
              " ('taken', 2016),\n",
              " ('musical', 2016),\n",
              " ('theater', 2013),\n",
              " ('cool', 2013),\n",
              " ('sequel', 2012),\n",
              " ('twist', 2010),\n",
              " ('lady', 2001),\n",
              " ('ago', 2000),\n",
              " ('sister', 1999),\n",
              " ('please', 1993),\n",
              " ('crap', 1993),\n",
              " ('female', 1992),\n",
              " ('across', 1973),\n",
              " ('known', 1962),\n",
              " ('exactly', 1960),\n",
              " ('opening', 1957),\n",
              " ('value', 1956),\n",
              " ('room', 1955),\n",
              " ('seriously', 1952),\n",
              " ('released', 1951),\n",
              " ('possible', 1949),\n",
              " ('saying', 1948),\n",
              " ('usually', 1935),\n",
              " ('alone', 1935),\n",
              " ('slow', 1929),\n",
              " ('none', 1929),\n",
              " ('sad', 1920),\n",
              " ('dialog', 1916),\n",
              " ('huge', 1912),\n",
              " ('english', 1911),\n",
              " ('miss', 1911),\n",
              " ('cinematography', 1911),\n",
              " ('zombie', 1910),\n",
              " ('spoiler', 1907),\n",
              " ('filmmaker', 1907),\n",
              " ('annoying', 1902),\n",
              " ('dog', 1896),\n",
              " ('major', 1895),\n",
              " ('gore', 1894),\n",
              " ('whose', 1891),\n",
              " ('local', 1884),\n",
              " ('running', 1876),\n",
              " ('dream', 1867),\n",
              " ('stay', 1865),\n",
              " ('cop', 1864),\n",
              " ('ridiculous', 1862),\n",
              " ('started', 1861),\n",
              " ('message', 1843),\n",
              " ('taking', 1842),\n",
              " ('usual', 1836),\n",
              " ('beyond', 1831),\n",
              " ('mostly', 1828),\n",
              " ('important', 1828),\n",
              " ('somewhat', 1823),\n",
              " ('knew', 1822),\n",
              " ('silly', 1815),\n",
              " ('thriller', 1808),\n",
              " ('tale', 1802),\n",
              " ('attention', 1801),\n",
              " ('disappointed', 1800),\n",
              " ('return', 1797),\n",
              " ('scary', 1795),\n",
              " ('surprise', 1795),\n",
              " ('apparently', 1793),\n",
              " ('open', 1792),\n",
              " ('turned', 1791),\n",
              " ('jack', 1791),\n",
              " ('comic', 1791),\n",
              " ('due', 1784),\n",
              " ('basically', 1782),\n",
              " ('hate', 1782),\n",
              " ('strange', 1782),\n",
              " ('team', 1780),\n",
              " ('four', 1773),\n",
              " ('mention', 1772),\n",
              " ('king', 1770),\n",
              " ('parent', 1766),\n",
              " ('result', 1765),\n",
              " ('television', 1763),\n",
              " ('happy', 1762),\n",
              " ('street', 1758),\n",
              " ('talking', 1758),\n",
              " ('figure', 1757),\n",
              " ('upon', 1756),\n",
              " ('image', 1753),\n",
              " ('member', 1751),\n",
              " ('producer', 1751),\n",
              " ('clearly', 1746),\n",
              " ('cheap', 1742),\n",
              " ('season', 1737),\n",
              " ('single', 1736),\n",
              " ('whats', 1735),\n",
              " ('subject', 1734),\n",
              " ('george', 1726),\n",
              " ('arent', 1720),\n",
              " ('rock', 1712),\n",
              " ('state', 1709),\n",
              " ('release', 1704),\n",
              " ('british', 1691),\n",
              " ('soundtrack', 1680),\n",
              " ('modern', 1674),\n",
              " ('earth', 1673),\n",
              " ('ten', 1669),\n",
              " ('crime', 1668),\n",
              " ('hold', 1667),\n",
              " ('whether', 1663),\n",
              " ('predictable', 1657),\n",
              " ('entertainment', 1657),\n",
              " ('doubt', 1655),\n",
              " ('future', 1653),\n",
              " ('viewing', 1653),\n",
              " ('western', 1652),\n",
              " ('space', 1652),\n",
              " ('french', 1649),\n",
              " ('easily', 1644),\n",
              " ('appears', 1640),\n",
              " ('form', 1639),\n",
              " ('peter', 1639),\n",
              " ('class', 1636),\n",
              " ('havent', 1636),\n",
              " ('bring', 1635),\n",
              " ('villain', 1635),\n",
              " ('storyline', 1631),\n",
              " ('enjoyable', 1626),\n",
              " ('giving', 1625),\n",
              " ('mystery', 1625),\n",
              " ('killing', 1623),\n",
              " ('aspect', 1622),\n",
              " ('supporting', 1620),\n",
              " ('similar', 1617),\n",
              " ('buy', 1614),\n",
              " ('romantic', 1611),\n",
              " ('showing', 1605),\n",
              " ('bunch', 1599),\n",
              " ('moving', 1598),\n",
              " ('gun', 1596),\n",
              " ('surprised', 1592),\n",
              " ('adult', 1590),\n",
              " ('within', 1590),\n",
              " ('five', 1589),\n",
              " ('clear', 1589),\n",
              " ('soldier', 1586),\n",
              " ('certain', 1585),\n",
              " ('break', 1584),\n",
              " ('drug', 1582),\n",
              " ('tried', 1581),\n",
              " ('emotion', 1579),\n",
              " ('filmed', 1576),\n",
              " ('oscar', 1572),\n",
              " ('dull', 1568),\n",
              " ('middle', 1566),\n",
              " ('note', 1561),\n",
              " ('among', 1557),\n",
              " ('doctor', 1556),\n",
              " ('sorry', 1556),\n",
              " ('named', 1535),\n",
              " ('easy', 1535),\n",
              " ('setting', 1534),\n",
              " ('working', 1534),\n",
              " ('using', 1524),\n",
              " ('general', 1523),\n",
              " ('typical', 1520),\n",
              " ('victim', 1518),\n",
              " ('period', 1518),\n",
              " ('force', 1518),\n",
              " ('present', 1517),\n",
              " ('gone', 1514),\n",
              " ('near', 1512),\n",
              " ('material', 1511),\n",
              " ('kept', 1509),\n",
              " ('standard', 1509),\n",
              " ('check', 1509),\n",
              " ('detail', 1508),\n",
              " ('dance', 1506),\n",
              " ('student', 1504),\n",
              " ('greatest', 1502),\n",
              " ('nearly', 1497),\n",
              " ('die', 1496),\n",
              " ('avoid', 1495),\n",
              " ('suspense', 1494),\n",
              " ('fantastic', 1490),\n",
              " ('battle', 1489),\n",
              " ('editing', 1485),\n",
              " ('actual', 1485),\n",
              " ('imagine', 1481),\n",
              " ('dr', 1479),\n",
              " ('cartoon', 1479),\n",
              " ('straight', 1478),\n",
              " ('animation', 1478),\n",
              " ('richard', 1475),\n",
              " ('realistic', 1472),\n",
              " ('premise', 1470),\n",
              " ('famous', 1461),\n",
              " ('brought', 1460),\n",
              " ('okay', 1457),\n",
              " ('youve', 1455),\n",
              " ('mark', 1453),\n",
              " ('paul', 1450),\n",
              " ('rent', 1449),\n",
              " ('th', 1449),\n",
              " ('forget', 1445),\n",
              " ('believable', 1443),\n",
              " ('issue', 1443),\n",
              " ('somehow', 1443),\n",
              " ('wait', 1440),\n",
              " ('truth', 1437),\n",
              " ('tom', 1437),\n",
              " ('offer', 1434),\n",
              " ('fit', 1433),\n",
              " ('copy', 1432),\n",
              " ('america', 1426),\n",
              " ('alien', 1425),\n",
              " ('masterpiece', 1423),\n",
              " ('hear', 1422),\n",
              " ('background', 1411),\n",
              " ('escape', 1411),\n",
              " ('atmosphere', 1406),\n",
              " ('york', 1404),\n",
              " ('romance', 1404),\n",
              " ('learn', 1404),\n",
              " ('cause', 1403),\n",
              " ('water', 1402),\n",
              " ('eventually', 1402),\n",
              " ('particular', 1394),\n",
              " ('who', 1393),\n",
              " ('weak', 1393),\n",
              " ('society', 1393),\n",
              " ('sit', 1391),\n",
              " ('expected', 1388),\n",
              " ('red', 1388),\n",
              " ('vampire', 1384),\n",
              " ('indeed', 1381),\n",
              " ('fast', 1379),\n",
              " ('leaf', 1378),\n",
              " ('shame', 1375),\n",
              " ('male', 1373),\n",
              " ('pay', 1370),\n",
              " ('german', 1367),\n",
              " ('follow', 1365),\n",
              " ('decided', 1365),\n",
              " ('choice', 1364),\n",
              " ('crew', 1362),\n",
              " ('cover', 1361),\n",
              " ('studio', 1359),\n",
              " ('baby', 1357),\n",
              " ('deep', 1356),\n",
              " ('difficult', 1353),\n",
              " ('average', 1352),\n",
              " ('lame', 1352),\n",
              " ('secret', 1350),\n",
              " ('walk', 1350),\n",
              " ('stage', 1348),\n",
              " ('whatever', 1347),\n",
              " ('b', 1346),\n",
              " ('beauty', 1344),\n",
              " ('gay', 1342),\n",
              " ('screenplay', 1339),\n",
              " ('footage', 1338),\n",
              " ('reading', 1337),\n",
              " ('poorly', 1334),\n",
              " ('island', 1333),\n",
              " ('third', 1333),\n",
              " ('became', 1333),\n",
              " ('possibly', 1332),\n",
              " ('emotional', 1330),\n",
              " ('de', 1329),\n",
              " ('party', 1328),\n",
              " ('wood', 1327),\n",
              " ('needed', 1327),\n",
              " ('forced', 1327),\n",
              " ('lee', 1326),\n",
              " ('memorable', 1325),\n",
              " ('box', 1322),\n",
              " ('focus', 1318),\n",
              " ('remake', 1316),\n",
              " ('accent', 1316),\n",
              " ('nature', 1310),\n",
              " ('match', 1309),\n",
              " ('scifi', 1308),\n",
              " ('otherwise', 1306),\n",
              " ('unless', 1304),\n",
              " ('week', 1303),\n",
              " ('fire', 1300),\n",
              " ('sexual', 1297),\n",
              " ('imdb', 1296),\n",
              " ('superb', 1288),\n",
              " ('write', 1286),\n",
              " ('la', 1286),\n",
              " ('interested', 1286),\n",
              " ('bill', 1285),\n",
              " ('location', 1282),\n",
              " ('touch', 1280),\n",
              " ('previous', 1280),\n",
              " ('inside', 1280),\n",
              " ('plus', 1278),\n",
              " ('cheesy', 1278),\n",
              " ('hot', 1277),\n",
              " ('perfectly', 1277),\n",
              " ('animal', 1274),\n",
              " ('nor', 1273),\n",
              " ('personal', 1272),\n",
              " ('development', 1267),\n",
              " ('total', 1267),\n",
              " ('adventure', 1261),\n",
              " ('quickly', 1261),\n",
              " ('towards', 1257),\n",
              " ('weird', 1256),\n",
              " ('mess', 1254),\n",
              " ('air', 1254),\n",
              " ('girlfriend', 1248),\n",
              " ('plan', 1248),\n",
              " ('crazy', 1245),\n",
              " ('incredibly', 1245),\n",
              " ('lover', 1244),\n",
              " ('japanese', 1244),\n",
              " ('earlier', 1242),\n",
              " ('company', 1241),\n",
              " ('badly', 1239),\n",
              " ('worked', 1235),\n",
              " ('win', 1235),\n",
              " ('cry', 1234),\n",
              " ('free', 1232),\n",
              " ('realize', 1230),\n",
              " ('unique', 1228),\n",
              " ('disney', 1225),\n",
              " ('business', 1224),\n",
              " ('front', 1221),\n",
              " ('fear', 1220),\n",
              " ('following', 1220),\n",
              " ('project', 1218),\n",
              " ('older', 1218),\n",
              " ('various', 1217),\n",
              " ('pick', 1215),\n",
              " ('amount', 1215),\n",
              " ('rich', 1212),\n",
              " ('success', 1210),\n",
              " ('plenty', 1208),\n",
              " ('powerful', 1207),\n",
              " ('brings', 1206),\n",
              " ('appear', 1206),\n",
              " ('forward', 1201),\n",
              " ('master', 1199),\n",
              " ('fantasy', 1198),\n",
              " ('term', 1198),\n",
              " ('ask', 1197),\n",
              " ('costume', 1193),\n",
              " ('admit', 1192),\n",
              " ('fairly', 1190),\n",
              " ('memory', 1187),\n",
              " ('award', 1187),\n",
              " ('joe', 1185),\n",
              " ('apart', 1183),\n",
              " ('creepy', 1183),\n",
              " ('acted', 1183),\n",
              " ('directing', 1182),\n",
              " ('portrayed', 1180),\n",
              " ('spent', 1178),\n",
              " ('dumb', 1177),\n",
              " ('band', 1176),\n",
              " ('rate', 1174),\n",
              " ('dramatic', 1174),\n",
              " ('leading', 1173),\n",
              " ('trouble', 1173),\n",
              " ('outside', 1173),\n",
              " ('wasted', 1165),\n",
              " ('deserves', 1165),\n",
              " ('portrayal', 1165),\n",
              " ('fails', 1160),\n",
              " ('store', 1156),\n",
              " ('train', 1155),\n",
              " ('meant', 1154),\n",
              " ('plain', 1152),\n",
              " ('spirit', 1145),\n",
              " ('manages', 1145),\n",
              " ('cat', 1144),\n",
              " ('expecting', 1143),\n",
              " ('brain', 1141),\n",
              " ('political', 1141),\n",
              " ('italian', 1140),\n",
              " ('missing', 1140),\n",
              " ('ability', 1138),\n",
              " ('create', 1138),\n",
              " ('mistake', 1137),\n",
              " ('appearance', 1136),\n",
              " ('agree', 1135),\n",
              " ('list', 1135),\n",
              " ('william', 1134),\n",
              " ('recently', 1134),\n",
              " ('concept', 1132),\n",
              " ('caught', 1132),\n",
              " ('throw', 1131),\n",
              " ('attack', 1131),\n",
              " ('fighting', 1130),\n",
              " ('creature', 1130),\n",
              " ('hardly', 1129),\n",
              " ('chase', 1129),\n",
              " ('unlike', 1122),\n",
              " ('era', 1121),\n",
              " ('shoot', 1116),\n",
              " ('channel', 1115),\n",
              " ('pace', 1114),\n",
              " ('clever', 1113),\n",
              " ('large', 1112),\n",
              " ('ended', 1110),\n",
              " ('laughing', 1107),\n",
              " ('cute', 1106),\n",
              " ('public', 1105),\n",
              " ('telling', 1103),\n",
              " ('ghost', 1103),\n",
              " ('odd', 1101),\n",
              " ('potential', 1101),\n",
              " ('teen', 1101),\n",
              " ('player', 1100),\n",
              " ('century', 1099),\n",
              " ('stick', 1099),\n",
              " ('talented', 1098),\n",
              " ('language', 1094),\n",
              " ('tension', 1091),\n",
              " ('blue', 1091),\n",
              " ('color', 1090),\n",
              " ('missed', 1089),\n",
              " ('pure', 1088),\n",
              " ('pull', 1087),\n",
              " ('depth', 1084),\n",
              " ('casting', 1083),\n",
              " ('soul', 1080),\n",
              " ('indian', 1080),\n",
              " ('created', 1080),\n",
              " ('waiting', 1078),\n",
              " ('door', 1073),\n",
              " ('married', 1073),\n",
              " ('us', 1072),\n",
              " ('van', 1072),\n",
              " ('nudity', 1071),\n",
              " ('office', 1068),\n",
              " ('incredible', 1068),\n",
              " ('visual', 1065),\n",
              " ('considering', 1065),\n",
              " ('hole', 1062),\n",
              " ('slightly', 1058),\n",
              " ('scott', 1057),\n",
              " ('sadly', 1056),\n",
              " ('died', 1055),\n",
              " ('answer', 1053),\n",
              " ('flat', 1052),\n",
              " ('speak', 1051),\n",
              " ('familiar', 1051),\n",
              " ('respect', 1050),\n",
              " ('extra', 1048),\n",
              " ('decides', 1042),\n",
              " ('control', 1041),\n",
              " ('mentioned', 1040),\n",
              " ('entirely', 1036),\n",
              " ('purpose', 1036),\n",
              " ('produced', 1036),\n",
              " ('catch', 1034),\n",
              " ('culture', 1034),\n",
              " ('popular', 1032),\n",
              " ('neither', 1031),\n",
              " ('convincing', 1031),\n",
              " ('wrote', 1030),\n",
              " ('gang', 1027),\n",
              " ('positive', 1026),\n",
              " ('follows', 1026),\n",
              " ('bored', 1025),\n",
              " ('taste', 1022),\n",
              " ('compared', 1022),\n",
              " ('appreciate', 1021),\n",
              " ('critic', 1021),\n",
              " ('basic', 1020),\n",
              " ('maker', 1019),\n",
              " ('sweet', 1018),\n",
              " ('million', 1016),\n",
              " ('suddenly', 1013),\n",
              " ('former', 1013),\n",
              " ('college', 1013),\n",
              " ('lie', 1011),\n",
              " ('drive', 1011),\n",
              " ('track', 1011),\n",
              " ('biggest', 1009),\n",
              " ('younger', 1007),\n",
              " ('adaptation', 1006),\n",
              " ('science', 1006),\n",
              " ('common', 1005),\n",
              " ('intelligent', 1005),\n",
              " ('belief', 1000),\n",
              " ('hair', 1000),\n",
              " ('genius', 999),\n",
              " ('dancing', 997),\n",
              " ('alive', 994),\n",
              " ('flaw', 993),\n",
              " ('meaning', 992),\n",
              " ('building', 992),\n",
              " ('recommended', 988),\n",
              " ('carry', 987),\n",
              " ('successful', 986),\n",
              " ('violent', 985),\n",
              " ('conclusion', 984),\n",
              " ('social', 983),\n",
              " ('camp', 982),\n",
              " ('ride', 982),\n",
              " ('amusing', 981),\n",
              " ('longer', 980),\n",
              " ('christmas', 979),\n",
              " ('filled', 978),\n",
              " ('cold', 977),\n",
              " ('aside', 976),\n",
              " ('bother', 976),\n",
              " ('mad', 974),\n",
              " ('spend', 973),\n",
              " ('pointless', 973),\n",
              " ('exciting', 973),\n",
              " ...]"
            ]
          },
          "metadata": {},
          "execution_count": 17
        }
      ]
    },
    {
      "cell_type": "code",
      "source": [
        "# Calculate how many of the most frequent words are needed\n",
        "# to cover 95% of all the word usage in the data.\n",
        "total_occurrences = sum(word_freq.values())\n",
        "coverage = 0\n",
        "num_words = 0\n",
        "\n",
        "for word, freq in most_common:\n",
        "    coverage += freq\n",
        "    num_words += 1\n",
        "    if coverage / total_occurrences >= 0.95:\n",
        "        break\n",
        "\n",
        "print(f\"You need about {num_words} words to cover 95% \")\n"
      ],
      "metadata": {
        "id": "WFpKQfWFxcYf",
        "colab": {
          "base_uri": "https://localhost:8080/"
        },
        "outputId": "a618ffb1-f109-4028-fc6b-ec571fcec32e"
      },
      "execution_count": 18,
      "outputs": [
        {
          "output_type": "stream",
          "name": "stdout",
          "text": [
            "You need about 20228 words to cover 95% \n"
          ]
        }
      ]
    },
    {
      "cell_type": "code",
      "source": [
        "# Prepare tokenizer with top 20228 words; convert texts to integer sequences, unknown words as \"<OOV>\"\n",
        "tokenizer = Tokenizer(num_words=20228 ,oov_token=\"<OOV>\")\n",
        "tokenizer.fit_on_texts(data[\"update_review\"])\n",
        "\n",
        "sequences = tokenizer.texts_to_sequences(data[\"update_review\"])"
      ],
      "metadata": {
        "id": "RMUTero33o82"
      },
      "execution_count": 19,
      "outputs": []
    },
    {
      "cell_type": "code",
      "source": [
        "# Calculate review lengths statistics to understand sequence sizes\n",
        "review_lengths = [len(seq) for seq in sequences]\n",
        "\n",
        "print(\" Shortest review length:\", np.min(review_lengths))\n",
        "print(\" Longest review length:\", np.max(review_lengths))\n",
        "print(\" Average review length:\", np.mean(review_lengths))\n",
        "print(\" 95th percentile length:\", np.percentile(review_lengths, 95))\n"
      ],
      "metadata": {
        "id": "hTGxAl0BJdn9",
        "colab": {
          "base_uri": "https://localhost:8080/"
        },
        "outputId": "67bc31da-6d1f-4e85-f9f8-74384a5ebaca"
      },
      "execution_count": 20,
      "outputs": [
        {
          "output_type": "stream",
          "name": "stdout",
          "text": [
            " Shortest review length: 3\n",
            " Longest review length: 1432\n",
            " Average review length: 120.72892\n",
            " 95th percentile length: 311.0\n"
          ]
        }
      ]
    },
    {
      "cell_type": "code",
      "source": [
        "padded_sequences = pad_sequences(sequences, maxlen=311, padding='post', truncating='post')"
      ],
      "metadata": {
        "id": "WYM483vtJv4A"
      },
      "execution_count": 21,
      "outputs": []
    },
    {
      "cell_type": "code",
      "source": [
        "#befor padding\n",
        "for i in range(2):\n",
        "    print(f\"Sequence {i+1}:\", sequences[i])\n"
      ],
      "metadata": {
        "id": "3MyXTf2WKW9g",
        "colab": {
          "base_uri": "https://localhost:8080/"
        },
        "outputId": "6a1e8285-60f0-4b50-caf6-df12f1e2b77d"
      },
      "execution_count": 22,
      "outputs": [
        {
          "output_type": "stream",
          "name": "stdout",
          "text": [
            "Sequence 1: [5, 1023, 941, 67, 3017, 174, 373, 2882, 107, 504, 481, 25, 29, 2993, 3017, 4859, 13277, 18, 475, 133, 107, 253, 34, 1530, 4, 26, 6220, 5128, 10239, 26, 912, 13, 2033, 2009, 634, 286, 475, 3113, 227, 259, 253, 377, 3017, 8954, 257, 13034, 6091, 2326, 586, 1, 763, 1248, 1, 398, 4294, 1958, 1026, 1950, 1812, 816, 241, 1, 14696, 4, 231, 3994, 3266, 398, 245, 1, 3788, 11139, 6600, 1186, 868, 2289, 15777, 19853, 212, 3820, 6601, 1653, 7725, 7260, 44, 139, 153, 14, 43, 191, 1056, 26, 558, 94, 34, 26, 460, 2422, 690, 98, 246, 3913, 2306, 162, 690, 1119, 690, 1, 71, 797, 101, 25, 174, 51, 122, 2993, 1444, 2022, 310, 43, 1422, 198, 1338, 955, 3017, 96, 8955, 231, 434, 1237, 475, 4, 475, 5672, 6362, 1913, 12319, 2726, 1, 4758, 12319, 272, 455, 12, 153, 19, 8761, 640, 608, 4758, 555, 1026, 4950, 558, 345, 570, 1145, 1026, 379, 67, 3017, 112, 321, 3443, 2987, 1, 12, 781, 3650, 348]\n",
            "Sequence 2: [295, 50, 237, 1211, 1562, 15778, 1, 1315, 62, 11697, 426, 1, 193, 1699, 334, 238, 40, 457, 19, 2098, 386, 3758, 4, 96, 1, 402, 2925, 264, 15, 11895, 672, 8956, 1107, 1510, 5270, 2094, 4, 19, 186, 67, 1, 337, 2176, 238, 3893, 237, 5, 22, 831, 102, 33, 1699, 17, 55, 245, 50, 29, 832, 1913, 159, 259, 1974, 532, 1562, 1127, 1030, 4522, 73, 1637, 4038, 477, 18, 3320, 17031, 1, 133, 477, 934, 1, 1, 1, 84, 1995, 1761, 19, 135]\n"
          ]
        }
      ]
    },
    {
      "cell_type": "code",
      "source": [
        "#after badding\n",
        "for i in range(2):\n",
        "    print(f\"Padded {i+1}:\", padded_sequences[i])\n"
      ],
      "metadata": {
        "id": "97GXyfeFKaFr",
        "colab": {
          "base_uri": "https://localhost:8080/"
        },
        "outputId": "25a01485-43e2-4e86-c55b-585ec52dc9ff"
      },
      "execution_count": 23,
      "outputs": [
        {
          "output_type": "stream",
          "name": "stdout",
          "text": [
            "Padded 1: [    5  1023   941    67  3017   174   373  2882   107   504   481    25\n",
            "    29  2993  3017  4859 13277    18   475   133   107   253    34  1530\n",
            "     4    26  6220  5128 10239    26   912    13  2033  2009   634   286\n",
            "   475  3113   227   259   253   377  3017  8954   257 13034  6091  2326\n",
            "   586     1   763  1248     1   398  4294  1958  1026  1950  1812   816\n",
            "   241     1 14696     4   231  3994  3266   398   245     1  3788 11139\n",
            "  6600  1186   868  2289 15777 19853   212  3820  6601  1653  7725  7260\n",
            "    44   139   153    14    43   191  1056    26   558    94    34    26\n",
            "   460  2422   690    98   246  3913  2306   162   690  1119   690     1\n",
            "    71   797   101    25   174    51   122  2993  1444  2022   310    43\n",
            "  1422   198  1338   955  3017    96  8955   231   434  1237   475     4\n",
            "   475  5672  6362  1913 12319  2726     1  4758 12319   272   455    12\n",
            "   153    19  8761   640   608  4758   555  1026  4950   558   345   570\n",
            "  1145  1026   379    67  3017   112   321  3443  2987     1    12   781\n",
            "  3650   348     0     0     0     0     0     0     0     0     0     0\n",
            "     0     0     0     0     0     0     0     0     0     0     0     0\n",
            "     0     0     0     0     0     0     0     0     0     0     0     0\n",
            "     0     0     0     0     0     0     0     0     0     0     0     0\n",
            "     0     0     0     0     0     0     0     0     0     0     0     0\n",
            "     0     0     0     0     0     0     0     0     0     0     0     0\n",
            "     0     0     0     0     0     0     0     0     0     0     0     0\n",
            "     0     0     0     0     0     0     0     0     0     0     0     0\n",
            "     0     0     0     0     0     0     0     0     0     0     0     0\n",
            "     0     0     0     0     0     0     0     0     0     0     0     0\n",
            "     0     0     0     0     0     0     0     0     0     0     0     0\n",
            "     0     0     0     0     0     0     0     0     0     0     0]\n",
            "Padded 2: [  295    50   237  1211  1562 15778     1  1315    62 11697   426     1\n",
            "   193  1699   334   238    40   457    19  2098   386  3758     4    96\n",
            "     1   402  2925   264    15 11895   672  8956  1107  1510  5270  2094\n",
            "     4    19   186    67     1   337  2176   238  3893   237     5    22\n",
            "   831   102    33  1699    17    55   245    50    29   832  1913   159\n",
            "   259  1974   532  1562  1127  1030  4522    73  1637  4038   477    18\n",
            "  3320 17031     1   133   477   934     1     1     1    84  1995  1761\n",
            "    19   135     0     0     0     0     0     0     0     0     0     0\n",
            "     0     0     0     0     0     0     0     0     0     0     0     0\n",
            "     0     0     0     0     0     0     0     0     0     0     0     0\n",
            "     0     0     0     0     0     0     0     0     0     0     0     0\n",
            "     0     0     0     0     0     0     0     0     0     0     0     0\n",
            "     0     0     0     0     0     0     0     0     0     0     0     0\n",
            "     0     0     0     0     0     0     0     0     0     0     0     0\n",
            "     0     0     0     0     0     0     0     0     0     0     0     0\n",
            "     0     0     0     0     0     0     0     0     0     0     0     0\n",
            "     0     0     0     0     0     0     0     0     0     0     0     0\n",
            "     0     0     0     0     0     0     0     0     0     0     0     0\n",
            "     0     0     0     0     0     0     0     0     0     0     0     0\n",
            "     0     0     0     0     0     0     0     0     0     0     0     0\n",
            "     0     0     0     0     0     0     0     0     0     0     0     0\n",
            "     0     0     0     0     0     0     0     0     0     0     0     0\n",
            "     0     0     0     0     0     0     0     0     0     0     0     0\n",
            "     0     0     0     0     0     0     0     0     0     0     0     0\n",
            "     0     0     0     0     0     0     0     0     0     0     0     0\n",
            "     0     0     0     0     0     0     0     0     0     0     0]\n"
          ]
        }
      ]
    },
    {
      "cell_type": "code",
      "source": [
        "\n",
        "data[\"label\"] = data[\"sentiment\"].map({\"negative\": 0, \"positive\": 1})\n"
      ],
      "metadata": {
        "id": "jDGZt1lnKqnO"
      },
      "execution_count": 24,
      "outputs": []
    },
    {
      "cell_type": "markdown",
      "source": [],
      "metadata": {
        "id": "G3FGqQGUROzZ"
      }
    },
    {
      "cell_type": "markdown",
      "source": [
        "#-----------------------LSTM--------------------------------------------------------------------------------"
      ],
      "metadata": {
        "id": "08NcApFnRTT1"
      }
    },
    {
      "cell_type": "code",
      "source": [
        "from sklearn.model_selection import train_test_split\n",
        "\n",
        "X = padded_sequences\n",
        "y = data[\"label\"].values\n",
        "\n",
        "X_train, X_test, y_train, y_test = train_test_split(X, y, test_size=0.2, random_state=42)\n"
      ],
      "metadata": {
        "id": "QMdAAff6LGkl"
      },
      "execution_count": 25,
      "outputs": []
    },
    {
      "cell_type": "code",
      "source": [
        "from tensorflow.keras import Sequential, Input\n",
        "from tensorflow.keras.layers import Embedding, LSTM, Dropout, Dense\n",
        "from tensorflow.keras.callbacks import EarlyStopping\n",
        "\n",
        "\n",
        "vocab_size   = 20228\n",
        "embedding_dim = 100\n",
        "max_length    = 300\n",
        "model = Sequential([\n",
        "    Input(shape=(max_length,)),Embedding(input_dim=vocab_size,output_dim=embedding_dim),\n",
        "    LSTM(64, return_sequences=True),\n",
        "    LSTM(64, return_sequences=True),\n",
        "    LSTM(64, return_sequences=True),\n",
        "    LSTM(64),\n",
        "    Dropout(0.5),\n",
        "    Dense(32, activation='relu'),\n",
        "    Dense(1,  activation='sigmoid')\n",
        "])\n",
        "\n",
        "model.compile(loss='binary_crossentropy',\n",
        "              optimizer='adam',\n",
        "              metrics=['accuracy'])\n",
        "\n",
        "model.summary()\n"
      ],
      "metadata": {
        "id": "4gLx31pFLQFr",
        "colab": {
          "base_uri": "https://localhost:8080/",
          "height": 385
        },
        "outputId": "a58ef07c-6f70-48cc-ba72-2da105872777"
      },
      "execution_count": 26,
      "outputs": [
        {
          "output_type": "display_data",
          "data": {
            "text/plain": [
              "\u001b[1mModel: \"sequential\"\u001b[0m\n"
            ],
            "text/html": [
              "<pre style=\"white-space:pre;overflow-x:auto;line-height:normal;font-family:Menlo,'DejaVu Sans Mono',consolas,'Courier New',monospace\"><span style=\"font-weight: bold\">Model: \"sequential\"</span>\n",
              "</pre>\n"
            ]
          },
          "metadata": {}
        },
        {
          "output_type": "display_data",
          "data": {
            "text/plain": [
              "┏━━━━━━━━━━━━━━━━━━━━━━━━━━━━━━━━━┳━━━━━━━━━━━━━━━━━━━━━━━━┳━━━━━━━━━━━━━━━┓\n",
              "┃\u001b[1m \u001b[0m\u001b[1mLayer (type)                   \u001b[0m\u001b[1m \u001b[0m┃\u001b[1m \u001b[0m\u001b[1mOutput Shape          \u001b[0m\u001b[1m \u001b[0m┃\u001b[1m \u001b[0m\u001b[1m      Param #\u001b[0m\u001b[1m \u001b[0m┃\n",
              "┡━━━━━━━━━━━━━━━━━━━━━━━━━━━━━━━━━╇━━━━━━━━━━━━━━━━━━━━━━━━╇━━━━━━━━━━━━━━━┩\n",
              "│ embedding (\u001b[38;5;33mEmbedding\u001b[0m)           │ (\u001b[38;5;45mNone\u001b[0m, \u001b[38;5;34m300\u001b[0m, \u001b[38;5;34m100\u001b[0m)       │     \u001b[38;5;34m2,022,800\u001b[0m │\n",
              "├─────────────────────────────────┼────────────────────────┼───────────────┤\n",
              "│ lstm (\u001b[38;5;33mLSTM\u001b[0m)                     │ (\u001b[38;5;45mNone\u001b[0m, \u001b[38;5;34m300\u001b[0m, \u001b[38;5;34m64\u001b[0m)        │        \u001b[38;5;34m42,240\u001b[0m │\n",
              "├─────────────────────────────────┼────────────────────────┼───────────────┤\n",
              "│ lstm_1 (\u001b[38;5;33mLSTM\u001b[0m)                   │ (\u001b[38;5;45mNone\u001b[0m, \u001b[38;5;34m300\u001b[0m, \u001b[38;5;34m64\u001b[0m)        │        \u001b[38;5;34m33,024\u001b[0m │\n",
              "├─────────────────────────────────┼────────────────────────┼───────────────┤\n",
              "│ lstm_2 (\u001b[38;5;33mLSTM\u001b[0m)                   │ (\u001b[38;5;45mNone\u001b[0m, \u001b[38;5;34m300\u001b[0m, \u001b[38;5;34m64\u001b[0m)        │        \u001b[38;5;34m33,024\u001b[0m │\n",
              "├─────────────────────────────────┼────────────────────────┼───────────────┤\n",
              "│ lstm_3 (\u001b[38;5;33mLSTM\u001b[0m)                   │ (\u001b[38;5;45mNone\u001b[0m, \u001b[38;5;34m64\u001b[0m)             │        \u001b[38;5;34m33,024\u001b[0m │\n",
              "├─────────────────────────────────┼────────────────────────┼───────────────┤\n",
              "│ dropout (\u001b[38;5;33mDropout\u001b[0m)               │ (\u001b[38;5;45mNone\u001b[0m, \u001b[38;5;34m64\u001b[0m)             │             \u001b[38;5;34m0\u001b[0m │\n",
              "├─────────────────────────────────┼────────────────────────┼───────────────┤\n",
              "│ dense (\u001b[38;5;33mDense\u001b[0m)                   │ (\u001b[38;5;45mNone\u001b[0m, \u001b[38;5;34m32\u001b[0m)             │         \u001b[38;5;34m2,080\u001b[0m │\n",
              "├─────────────────────────────────┼────────────────────────┼───────────────┤\n",
              "│ dense_1 (\u001b[38;5;33mDense\u001b[0m)                 │ (\u001b[38;5;45mNone\u001b[0m, \u001b[38;5;34m1\u001b[0m)              │            \u001b[38;5;34m33\u001b[0m │\n",
              "└─────────────────────────────────┴────────────────────────┴───────────────┘\n"
            ],
            "text/html": [
              "<pre style=\"white-space:pre;overflow-x:auto;line-height:normal;font-family:Menlo,'DejaVu Sans Mono',consolas,'Courier New',monospace\">┏━━━━━━━━━━━━━━━━━━━━━━━━━━━━━━━━━┳━━━━━━━━━━━━━━━━━━━━━━━━┳━━━━━━━━━━━━━━━┓\n",
              "┃<span style=\"font-weight: bold\"> Layer (type)                    </span>┃<span style=\"font-weight: bold\"> Output Shape           </span>┃<span style=\"font-weight: bold\">       Param # </span>┃\n",
              "┡━━━━━━━━━━━━━━━━━━━━━━━━━━━━━━━━━╇━━━━━━━━━━━━━━━━━━━━━━━━╇━━━━━━━━━━━━━━━┩\n",
              "│ embedding (<span style=\"color: #0087ff; text-decoration-color: #0087ff\">Embedding</span>)           │ (<span style=\"color: #00d7ff; text-decoration-color: #00d7ff\">None</span>, <span style=\"color: #00af00; text-decoration-color: #00af00\">300</span>, <span style=\"color: #00af00; text-decoration-color: #00af00\">100</span>)       │     <span style=\"color: #00af00; text-decoration-color: #00af00\">2,022,800</span> │\n",
              "├─────────────────────────────────┼────────────────────────┼───────────────┤\n",
              "│ lstm (<span style=\"color: #0087ff; text-decoration-color: #0087ff\">LSTM</span>)                     │ (<span style=\"color: #00d7ff; text-decoration-color: #00d7ff\">None</span>, <span style=\"color: #00af00; text-decoration-color: #00af00\">300</span>, <span style=\"color: #00af00; text-decoration-color: #00af00\">64</span>)        │        <span style=\"color: #00af00; text-decoration-color: #00af00\">42,240</span> │\n",
              "├─────────────────────────────────┼────────────────────────┼───────────────┤\n",
              "│ lstm_1 (<span style=\"color: #0087ff; text-decoration-color: #0087ff\">LSTM</span>)                   │ (<span style=\"color: #00d7ff; text-decoration-color: #00d7ff\">None</span>, <span style=\"color: #00af00; text-decoration-color: #00af00\">300</span>, <span style=\"color: #00af00; text-decoration-color: #00af00\">64</span>)        │        <span style=\"color: #00af00; text-decoration-color: #00af00\">33,024</span> │\n",
              "├─────────────────────────────────┼────────────────────────┼───────────────┤\n",
              "│ lstm_2 (<span style=\"color: #0087ff; text-decoration-color: #0087ff\">LSTM</span>)                   │ (<span style=\"color: #00d7ff; text-decoration-color: #00d7ff\">None</span>, <span style=\"color: #00af00; text-decoration-color: #00af00\">300</span>, <span style=\"color: #00af00; text-decoration-color: #00af00\">64</span>)        │        <span style=\"color: #00af00; text-decoration-color: #00af00\">33,024</span> │\n",
              "├─────────────────────────────────┼────────────────────────┼───────────────┤\n",
              "│ lstm_3 (<span style=\"color: #0087ff; text-decoration-color: #0087ff\">LSTM</span>)                   │ (<span style=\"color: #00d7ff; text-decoration-color: #00d7ff\">None</span>, <span style=\"color: #00af00; text-decoration-color: #00af00\">64</span>)             │        <span style=\"color: #00af00; text-decoration-color: #00af00\">33,024</span> │\n",
              "├─────────────────────────────────┼────────────────────────┼───────────────┤\n",
              "│ dropout (<span style=\"color: #0087ff; text-decoration-color: #0087ff\">Dropout</span>)               │ (<span style=\"color: #00d7ff; text-decoration-color: #00d7ff\">None</span>, <span style=\"color: #00af00; text-decoration-color: #00af00\">64</span>)             │             <span style=\"color: #00af00; text-decoration-color: #00af00\">0</span> │\n",
              "├─────────────────────────────────┼────────────────────────┼───────────────┤\n",
              "│ dense (<span style=\"color: #0087ff; text-decoration-color: #0087ff\">Dense</span>)                   │ (<span style=\"color: #00d7ff; text-decoration-color: #00d7ff\">None</span>, <span style=\"color: #00af00; text-decoration-color: #00af00\">32</span>)             │         <span style=\"color: #00af00; text-decoration-color: #00af00\">2,080</span> │\n",
              "├─────────────────────────────────┼────────────────────────┼───────────────┤\n",
              "│ dense_1 (<span style=\"color: #0087ff; text-decoration-color: #0087ff\">Dense</span>)                 │ (<span style=\"color: #00d7ff; text-decoration-color: #00d7ff\">None</span>, <span style=\"color: #00af00; text-decoration-color: #00af00\">1</span>)              │            <span style=\"color: #00af00; text-decoration-color: #00af00\">33</span> │\n",
              "└─────────────────────────────────┴────────────────────────┴───────────────┘\n",
              "</pre>\n"
            ]
          },
          "metadata": {}
        },
        {
          "output_type": "display_data",
          "data": {
            "text/plain": [
              "\u001b[1m Total params: \u001b[0m\u001b[38;5;34m2,166,225\u001b[0m (8.26 MB)\n"
            ],
            "text/html": [
              "<pre style=\"white-space:pre;overflow-x:auto;line-height:normal;font-family:Menlo,'DejaVu Sans Mono',consolas,'Courier New',monospace\"><span style=\"font-weight: bold\"> Total params: </span><span style=\"color: #00af00; text-decoration-color: #00af00\">2,166,225</span> (8.26 MB)\n",
              "</pre>\n"
            ]
          },
          "metadata": {}
        },
        {
          "output_type": "display_data",
          "data": {
            "text/plain": [
              "\u001b[1m Trainable params: \u001b[0m\u001b[38;5;34m2,166,225\u001b[0m (8.26 MB)\n"
            ],
            "text/html": [
              "<pre style=\"white-space:pre;overflow-x:auto;line-height:normal;font-family:Menlo,'DejaVu Sans Mono',consolas,'Courier New',monospace\"><span style=\"font-weight: bold\"> Trainable params: </span><span style=\"color: #00af00; text-decoration-color: #00af00\">2,166,225</span> (8.26 MB)\n",
              "</pre>\n"
            ]
          },
          "metadata": {}
        },
        {
          "output_type": "display_data",
          "data": {
            "text/plain": [
              "\u001b[1m Non-trainable params: \u001b[0m\u001b[38;5;34m0\u001b[0m (0.00 B)\n"
            ],
            "text/html": [
              "<pre style=\"white-space:pre;overflow-x:auto;line-height:normal;font-family:Menlo,'DejaVu Sans Mono',consolas,'Courier New',monospace\"><span style=\"font-weight: bold\"> Non-trainable params: </span><span style=\"color: #00af00; text-decoration-color: #00af00\">0</span> (0.00 B)\n",
              "</pre>\n"
            ]
          },
          "metadata": {}
        }
      ]
    },
    {
      "cell_type": "code",
      "source": [
        "early_stop = EarlyStopping(monitor='val_loss', patience=3, restore_best_weights=True)\n"
      ],
      "metadata": {
        "id": "kYaAPEUkqp_I"
      },
      "execution_count": 27,
      "outputs": []
    },
    {
      "cell_type": "code",
      "source": [
        "history = model.fit(X_train, y_train, epochs=10, batch_size=64, validation_data=(X_test, y_test),callbacks=[early_stop])\n"
      ],
      "metadata": {
        "colab": {
          "base_uri": "https://localhost:8080/"
        },
        "id": "SYeFW3DuLVbP",
        "outputId": "a2fe0141-5470-4c5e-d486-9e99e4a1dff6"
      },
      "execution_count": 28,
      "outputs": [
        {
          "output_type": "stream",
          "name": "stdout",
          "text": [
            "Epoch 1/10\n",
            "\u001b[1m625/625\u001b[0m \u001b[32m━━━━━━━━━━━━━━━━━━━━\u001b[0m\u001b[37m\u001b[0m \u001b[1m46s\u001b[0m 62ms/step - accuracy: 0.5044 - loss: 0.6936 - val_accuracy: 0.5039 - val_loss: 0.6931\n",
            "Epoch 2/10\n",
            "\u001b[1m625/625\u001b[0m \u001b[32m━━━━━━━━━━━━━━━━━━━━\u001b[0m\u001b[37m\u001b[0m \u001b[1m71s\u001b[0m 49ms/step - accuracy: 0.5035 - loss: 0.6934 - val_accuracy: 0.5018 - val_loss: 0.6929\n",
            "Epoch 3/10\n",
            "\u001b[1m625/625\u001b[0m \u001b[32m━━━━━━━━━━━━━━━━━━━━\u001b[0m\u001b[37m\u001b[0m \u001b[1m40s\u001b[0m 48ms/step - accuracy: 0.5095 - loss: 0.6923 - val_accuracy: 0.5010 - val_loss: 0.6935\n",
            "Epoch 4/10\n",
            "\u001b[1m625/625\u001b[0m \u001b[32m━━━━━━━━━━━━━━━━━━━━\u001b[0m\u001b[37m\u001b[0m \u001b[1m32s\u001b[0m 51ms/step - accuracy: 0.5080 - loss: 0.6924 - val_accuracy: 0.5039 - val_loss: 0.6935\n",
            "Epoch 5/10\n",
            "\u001b[1m625/625\u001b[0m \u001b[32m━━━━━━━━━━━━━━━━━━━━\u001b[0m\u001b[37m\u001b[0m \u001b[1m39s\u001b[0m 48ms/step - accuracy: 0.5145 - loss: 0.6852 - val_accuracy: 0.5158 - val_loss: 0.6900\n",
            "Epoch 6/10\n",
            "\u001b[1m625/625\u001b[0m \u001b[32m━━━━━━━━━━━━━━━━━━━━\u001b[0m\u001b[37m\u001b[0m \u001b[1m43s\u001b[0m 52ms/step - accuracy: 0.6183 - loss: 0.6410 - val_accuracy: 0.7736 - val_loss: 0.5010\n",
            "Epoch 7/10\n",
            "\u001b[1m625/625\u001b[0m \u001b[32m━━━━━━━━━━━━━━━━━━━━\u001b[0m\u001b[37m\u001b[0m \u001b[1m41s\u001b[0m 51ms/step - accuracy: 0.8242 - loss: 0.4046 - val_accuracy: 0.8770 - val_loss: 0.3080\n",
            "Epoch 8/10\n",
            "\u001b[1m625/625\u001b[0m \u001b[32m━━━━━━━━━━━━━━━━━━━━\u001b[0m\u001b[37m\u001b[0m \u001b[1m41s\u001b[0m 52ms/step - accuracy: 0.9188 - loss: 0.2286 - val_accuracy: 0.8767 - val_loss: 0.3006\n",
            "Epoch 9/10\n",
            "\u001b[1m625/625\u001b[0m \u001b[32m━━━━━━━━━━━━━━━━━━━━\u001b[0m\u001b[37m\u001b[0m \u001b[1m41s\u001b[0m 51ms/step - accuracy: 0.9162 - loss: 0.2217 - val_accuracy: 0.8640 - val_loss: 0.3396\n",
            "Epoch 10/10\n",
            "\u001b[1m625/625\u001b[0m \u001b[32m━━━━━━━━━━━━━━━━━━━━\u001b[0m\u001b[37m\u001b[0m \u001b[1m38s\u001b[0m 47ms/step - accuracy: 0.9443 - loss: 0.1644 - val_accuracy: 0.8864 - val_loss: 0.2844\n"
          ]
        }
      ]
    },
    {
      "cell_type": "code",
      "source": [
        "from sklearn.metrics import classification_report\n",
        "from sklearn.metrics import confusion_matrix\n",
        "\n",
        "y_pred = model.predict(X_test)\n",
        "y_pred_classes = (y_pred > 0.5).astype(int)\n",
        "print('Performance Report For LSTM:\\n',classification_report(y_test, y_pred_classes))\n",
        "print('Confusion Matrix:\\n',confusion_matrix(y_test, y_pred_classes))\n",
        "\n"
      ],
      "metadata": {
        "id": "8dwZUTlCSFAQ",
        "colab": {
          "base_uri": "https://localhost:8080/"
        },
        "outputId": "13541208-b034-483a-99ba-1f0e651c5ac0"
      },
      "execution_count": 29,
      "outputs": [
        {
          "output_type": "stream",
          "name": "stdout",
          "text": [
            "\u001b[1m313/313\u001b[0m \u001b[32m━━━━━━━━━━━━━━━━━━━━\u001b[0m\u001b[37m\u001b[0m \u001b[1m6s\u001b[0m 19ms/step\n",
            "Performance Report For LSTM:\n",
            "               precision    recall  f1-score   support\n",
            "\n",
            "           0       0.88      0.89      0.89      4961\n",
            "           1       0.89      0.89      0.89      5039\n",
            "\n",
            "    accuracy                           0.89     10000\n",
            "   macro avg       0.89      0.89      0.89     10000\n",
            "weighted avg       0.89      0.89      0.89     10000\n",
            "\n",
            "Confusion Matrix:\n",
            " [[4404  557]\n",
            " [ 579 4460]]\n"
          ]
        }
      ]
    },
    {
      "cell_type": "markdown",
      "source": [
        "#-----------------------SimpleRNN-----------------------------------------------------------------------------"
      ],
      "metadata": {
        "id": "SMZjzNkXRHIK"
      }
    },
    {
      "cell_type": "code",
      "source": [
        "from tensorflow.keras.layers import SimpleRNN\n",
        "\n",
        "vocab_size = 20228\n",
        "embedding_dim = 64\n",
        "max_length = 300\n",
        "\n",
        "model_1 = Sequential([\n",
        "    Input(shape=(max_length,)),Embedding(input_dim=vocab_size,output_dim=embedding_dim),\n",
        "    SimpleRNN(64, return_sequences=True),\n",
        "    SimpleRNN(64, return_sequences=True),\n",
        "    SimpleRNN(64),\n",
        "    Dropout(0.5),\n",
        "    Dense(32, activation='relu'),\n",
        "    Dense(1, activation='sigmoid')\n",
        "])\n",
        "\n",
        "model_1.compile(loss='binary_crossentropy', optimizer='adam', metrics=['accuracy'])\n",
        "\n",
        "model_1.summary()\n",
        "\n",
        "history = model_1.fit(\n",
        "    X_train, y_train,\n",
        "    epochs=5,\n",
        "    batch_size=64,\n",
        "    validation_data=(X_test, y_test),\n",
        "    callbacks=[early_stop]\n",
        ")"
      ],
      "metadata": {
        "id": "-qhkOxeXRFzX",
        "colab": {
          "base_uri": "https://localhost:8080/",
          "height": 547
        },
        "outputId": "3606a394-b5b2-43e3-e814-25b0289e5dfa"
      },
      "execution_count": 30,
      "outputs": [
        {
          "output_type": "display_data",
          "data": {
            "text/plain": [
              "\u001b[1mModel: \"sequential_1\"\u001b[0m\n"
            ],
            "text/html": [
              "<pre style=\"white-space:pre;overflow-x:auto;line-height:normal;font-family:Menlo,'DejaVu Sans Mono',consolas,'Courier New',monospace\"><span style=\"font-weight: bold\">Model: \"sequential_1\"</span>\n",
              "</pre>\n"
            ]
          },
          "metadata": {}
        },
        {
          "output_type": "display_data",
          "data": {
            "text/plain": [
              "┏━━━━━━━━━━━━━━━━━━━━━━━━━━━━━━━━━┳━━━━━━━━━━━━━━━━━━━━━━━━┳━━━━━━━━━━━━━━━┓\n",
              "┃\u001b[1m \u001b[0m\u001b[1mLayer (type)                   \u001b[0m\u001b[1m \u001b[0m┃\u001b[1m \u001b[0m\u001b[1mOutput Shape          \u001b[0m\u001b[1m \u001b[0m┃\u001b[1m \u001b[0m\u001b[1m      Param #\u001b[0m\u001b[1m \u001b[0m┃\n",
              "┡━━━━━━━━━━━━━━━━━━━━━━━━━━━━━━━━━╇━━━━━━━━━━━━━━━━━━━━━━━━╇━━━━━━━━━━━━━━━┩\n",
              "│ embedding_1 (\u001b[38;5;33mEmbedding\u001b[0m)         │ (\u001b[38;5;45mNone\u001b[0m, \u001b[38;5;34m300\u001b[0m, \u001b[38;5;34m64\u001b[0m)        │     \u001b[38;5;34m1,294,592\u001b[0m │\n",
              "├─────────────────────────────────┼────────────────────────┼───────────────┤\n",
              "│ simple_rnn (\u001b[38;5;33mSimpleRNN\u001b[0m)          │ (\u001b[38;5;45mNone\u001b[0m, \u001b[38;5;34m300\u001b[0m, \u001b[38;5;34m64\u001b[0m)        │         \u001b[38;5;34m8,256\u001b[0m │\n",
              "├─────────────────────────────────┼────────────────────────┼───────────────┤\n",
              "│ simple_rnn_1 (\u001b[38;5;33mSimpleRNN\u001b[0m)        │ (\u001b[38;5;45mNone\u001b[0m, \u001b[38;5;34m300\u001b[0m, \u001b[38;5;34m64\u001b[0m)        │         \u001b[38;5;34m8,256\u001b[0m │\n",
              "├─────────────────────────────────┼────────────────────────┼───────────────┤\n",
              "│ simple_rnn_2 (\u001b[38;5;33mSimpleRNN\u001b[0m)        │ (\u001b[38;5;45mNone\u001b[0m, \u001b[38;5;34m64\u001b[0m)             │         \u001b[38;5;34m8,256\u001b[0m │\n",
              "├─────────────────────────────────┼────────────────────────┼───────────────┤\n",
              "│ dropout_1 (\u001b[38;5;33mDropout\u001b[0m)             │ (\u001b[38;5;45mNone\u001b[0m, \u001b[38;5;34m64\u001b[0m)             │             \u001b[38;5;34m0\u001b[0m │\n",
              "├─────────────────────────────────┼────────────────────────┼───────────────┤\n",
              "│ dense_2 (\u001b[38;5;33mDense\u001b[0m)                 │ (\u001b[38;5;45mNone\u001b[0m, \u001b[38;5;34m32\u001b[0m)             │         \u001b[38;5;34m2,080\u001b[0m │\n",
              "├─────────────────────────────────┼────────────────────────┼───────────────┤\n",
              "│ dense_3 (\u001b[38;5;33mDense\u001b[0m)                 │ (\u001b[38;5;45mNone\u001b[0m, \u001b[38;5;34m1\u001b[0m)              │            \u001b[38;5;34m33\u001b[0m │\n",
              "└─────────────────────────────────┴────────────────────────┴───────────────┘\n"
            ],
            "text/html": [
              "<pre style=\"white-space:pre;overflow-x:auto;line-height:normal;font-family:Menlo,'DejaVu Sans Mono',consolas,'Courier New',monospace\">┏━━━━━━━━━━━━━━━━━━━━━━━━━━━━━━━━━┳━━━━━━━━━━━━━━━━━━━━━━━━┳━━━━━━━━━━━━━━━┓\n",
              "┃<span style=\"font-weight: bold\"> Layer (type)                    </span>┃<span style=\"font-weight: bold\"> Output Shape           </span>┃<span style=\"font-weight: bold\">       Param # </span>┃\n",
              "┡━━━━━━━━━━━━━━━━━━━━━━━━━━━━━━━━━╇━━━━━━━━━━━━━━━━━━━━━━━━╇━━━━━━━━━━━━━━━┩\n",
              "│ embedding_1 (<span style=\"color: #0087ff; text-decoration-color: #0087ff\">Embedding</span>)         │ (<span style=\"color: #00d7ff; text-decoration-color: #00d7ff\">None</span>, <span style=\"color: #00af00; text-decoration-color: #00af00\">300</span>, <span style=\"color: #00af00; text-decoration-color: #00af00\">64</span>)        │     <span style=\"color: #00af00; text-decoration-color: #00af00\">1,294,592</span> │\n",
              "├─────────────────────────────────┼────────────────────────┼───────────────┤\n",
              "│ simple_rnn (<span style=\"color: #0087ff; text-decoration-color: #0087ff\">SimpleRNN</span>)          │ (<span style=\"color: #00d7ff; text-decoration-color: #00d7ff\">None</span>, <span style=\"color: #00af00; text-decoration-color: #00af00\">300</span>, <span style=\"color: #00af00; text-decoration-color: #00af00\">64</span>)        │         <span style=\"color: #00af00; text-decoration-color: #00af00\">8,256</span> │\n",
              "├─────────────────────────────────┼────────────────────────┼───────────────┤\n",
              "│ simple_rnn_1 (<span style=\"color: #0087ff; text-decoration-color: #0087ff\">SimpleRNN</span>)        │ (<span style=\"color: #00d7ff; text-decoration-color: #00d7ff\">None</span>, <span style=\"color: #00af00; text-decoration-color: #00af00\">300</span>, <span style=\"color: #00af00; text-decoration-color: #00af00\">64</span>)        │         <span style=\"color: #00af00; text-decoration-color: #00af00\">8,256</span> │\n",
              "├─────────────────────────────────┼────────────────────────┼───────────────┤\n",
              "│ simple_rnn_2 (<span style=\"color: #0087ff; text-decoration-color: #0087ff\">SimpleRNN</span>)        │ (<span style=\"color: #00d7ff; text-decoration-color: #00d7ff\">None</span>, <span style=\"color: #00af00; text-decoration-color: #00af00\">64</span>)             │         <span style=\"color: #00af00; text-decoration-color: #00af00\">8,256</span> │\n",
              "├─────────────────────────────────┼────────────────────────┼───────────────┤\n",
              "│ dropout_1 (<span style=\"color: #0087ff; text-decoration-color: #0087ff\">Dropout</span>)             │ (<span style=\"color: #00d7ff; text-decoration-color: #00d7ff\">None</span>, <span style=\"color: #00af00; text-decoration-color: #00af00\">64</span>)             │             <span style=\"color: #00af00; text-decoration-color: #00af00\">0</span> │\n",
              "├─────────────────────────────────┼────────────────────────┼───────────────┤\n",
              "│ dense_2 (<span style=\"color: #0087ff; text-decoration-color: #0087ff\">Dense</span>)                 │ (<span style=\"color: #00d7ff; text-decoration-color: #00d7ff\">None</span>, <span style=\"color: #00af00; text-decoration-color: #00af00\">32</span>)             │         <span style=\"color: #00af00; text-decoration-color: #00af00\">2,080</span> │\n",
              "├─────────────────────────────────┼────────────────────────┼───────────────┤\n",
              "│ dense_3 (<span style=\"color: #0087ff; text-decoration-color: #0087ff\">Dense</span>)                 │ (<span style=\"color: #00d7ff; text-decoration-color: #00d7ff\">None</span>, <span style=\"color: #00af00; text-decoration-color: #00af00\">1</span>)              │            <span style=\"color: #00af00; text-decoration-color: #00af00\">33</span> │\n",
              "└─────────────────────────────────┴────────────────────────┴───────────────┘\n",
              "</pre>\n"
            ]
          },
          "metadata": {}
        },
        {
          "output_type": "display_data",
          "data": {
            "text/plain": [
              "\u001b[1m Total params: \u001b[0m\u001b[38;5;34m1,321,473\u001b[0m (5.04 MB)\n"
            ],
            "text/html": [
              "<pre style=\"white-space:pre;overflow-x:auto;line-height:normal;font-family:Menlo,'DejaVu Sans Mono',consolas,'Courier New',monospace\"><span style=\"font-weight: bold\"> Total params: </span><span style=\"color: #00af00; text-decoration-color: #00af00\">1,321,473</span> (5.04 MB)\n",
              "</pre>\n"
            ]
          },
          "metadata": {}
        },
        {
          "output_type": "display_data",
          "data": {
            "text/plain": [
              "\u001b[1m Trainable params: \u001b[0m\u001b[38;5;34m1,321,473\u001b[0m (5.04 MB)\n"
            ],
            "text/html": [
              "<pre style=\"white-space:pre;overflow-x:auto;line-height:normal;font-family:Menlo,'DejaVu Sans Mono',consolas,'Courier New',monospace\"><span style=\"font-weight: bold\"> Trainable params: </span><span style=\"color: #00af00; text-decoration-color: #00af00\">1,321,473</span> (5.04 MB)\n",
              "</pre>\n"
            ]
          },
          "metadata": {}
        },
        {
          "output_type": "display_data",
          "data": {
            "text/plain": [
              "\u001b[1m Non-trainable params: \u001b[0m\u001b[38;5;34m0\u001b[0m (0.00 B)\n"
            ],
            "text/html": [
              "<pre style=\"white-space:pre;overflow-x:auto;line-height:normal;font-family:Menlo,'DejaVu Sans Mono',consolas,'Courier New',monospace\"><span style=\"font-weight: bold\"> Non-trainable params: </span><span style=\"color: #00af00; text-decoration-color: #00af00\">0</span> (0.00 B)\n",
              "</pre>\n"
            ]
          },
          "metadata": {}
        },
        {
          "output_type": "stream",
          "name": "stdout",
          "text": [
            "Epoch 1/5\n",
            "\u001b[1m625/625\u001b[0m \u001b[32m━━━━━━━━━━━━━━━━━━━━\u001b[0m\u001b[37m\u001b[0m \u001b[1m51s\u001b[0m 71ms/step - accuracy: 0.5062 - loss: 0.7106 - val_accuracy: 0.5039 - val_loss: 0.6960\n",
            "Epoch 2/5\n",
            "\u001b[1m625/625\u001b[0m \u001b[32m━━━━━━━━━━━━━━━━━━━━\u001b[0m\u001b[37m\u001b[0m \u001b[1m79s\u001b[0m 70ms/step - accuracy: 0.5067 - loss: 0.7007 - val_accuracy: 0.5039 - val_loss: 0.6939\n",
            "Epoch 3/5\n",
            "\u001b[1m625/625\u001b[0m \u001b[32m━━━━━━━━━━━━━━━━━━━━\u001b[0m\u001b[37m\u001b[0m \u001b[1m79s\u001b[0m 66ms/step - accuracy: 0.5004 - loss: 0.6966 - val_accuracy: 0.5096 - val_loss: 0.6943\n",
            "Epoch 4/5\n",
            "\u001b[1m625/625\u001b[0m \u001b[32m━━━━━━━━━━━━━━━━━━━━\u001b[0m\u001b[37m\u001b[0m \u001b[1m84s\u001b[0m 70ms/step - accuracy: 0.5012 - loss: 0.6953 - val_accuracy: 0.5039 - val_loss: 0.6951\n",
            "Epoch 5/5\n",
            "\u001b[1m625/625\u001b[0m \u001b[32m━━━━━━━━━━━━━━━━━━━━\u001b[0m\u001b[37m\u001b[0m \u001b[1m82s\u001b[0m 70ms/step - accuracy: 0.4982 - loss: 0.6956 - val_accuracy: 0.5082 - val_loss: 0.6935\n"
          ]
        }
      ]
    },
    {
      "cell_type": "code",
      "source": [
        "y_pred = model_1.predict(X_test)\n",
        "y_pred_classes = (y_pred > 0.5).astype(int)\n",
        "print('Performance Report for SimpleRNN:\\n',classification_report(y_test, y_pred_classes))\n",
        "print('Confusion Matrix:\\n',confusion_matrix(y_test, y_pred_classes))\n"
      ],
      "metadata": {
        "colab": {
          "base_uri": "https://localhost:8080/"
        },
        "id": "_ByaomWloRKn",
        "outputId": "f98bf9d2-095d-4521-8e5e-973437e359a4"
      },
      "execution_count": 31,
      "outputs": [
        {
          "output_type": "stream",
          "name": "stdout",
          "text": [
            "\u001b[1m313/313\u001b[0m \u001b[32m━━━━━━━━━━━━━━━━━━━━\u001b[0m\u001b[37m\u001b[0m \u001b[1m7s\u001b[0m 19ms/step\n",
            "Performance Report for SimpleRNN:\n",
            "               precision    recall  f1-score   support\n",
            "\n",
            "           0       0.52      0.13      0.20      4961\n",
            "           1       0.51      0.88      0.64      5039\n",
            "\n",
            "    accuracy                           0.51     10000\n",
            "   macro avg       0.51      0.51      0.42     10000\n",
            "weighted avg       0.51      0.51      0.43     10000\n",
            "\n",
            "Confusion Matrix:\n",
            " [[ 630 4331]\n",
            " [ 587 4452]]\n"
          ]
        }
      ]
    },
    {
      "cell_type": "markdown",
      "source": [
        "#------------------------------GRU----------------------------------------------------------------------------"
      ],
      "metadata": {
        "id": "rKs_9FPQSnEQ"
      }
    },
    {
      "cell_type": "code",
      "source": [
        "from tensorflow.keras.layers import GRU\n",
        "\n",
        "vocab_size = 20228\n",
        "embedding_dim = 64\n",
        "max_length = 300\n",
        "\n",
        "model_2 = Sequential([\n",
        "    Input(shape=(max_length,)),Embedding(input_dim=vocab_size,output_dim=embedding_dim),\n",
        "    GRU(124, return_sequences=True),\n",
        "    GRU(124, return_sequences=True),\n",
        "    GRU(124),\n",
        "    Dropout(0.3),\n",
        "    Dense(32, activation='relu'),\n",
        "    Dense(1, activation='sigmoid')\n",
        "])\n",
        "\n",
        "model_2.compile(loss='binary_crossentropy', optimizer='adam', metrics=['accuracy'])\n",
        "\n",
        "model_2.summary()\n",
        "\n",
        "history = model_2.fit(\n",
        "    X_train, y_train,\n",
        "    epochs=10,\n",
        "    batch_size=64,\n",
        "    validation_data=(X_test, y_test),\n",
        "    callbacks=[early_stop]\n",
        ")"
      ],
      "metadata": {
        "id": "mcTZKuh9RFwA",
        "colab": {
          "base_uri": "https://localhost:8080/",
          "height": 685
        },
        "outputId": "af4e26a7-d091-4822-c10d-67033bb986ba"
      },
      "execution_count": 32,
      "outputs": [
        {
          "output_type": "display_data",
          "data": {
            "text/plain": [
              "\u001b[1mModel: \"sequential_2\"\u001b[0m\n"
            ],
            "text/html": [
              "<pre style=\"white-space:pre;overflow-x:auto;line-height:normal;font-family:Menlo,'DejaVu Sans Mono',consolas,'Courier New',monospace\"><span style=\"font-weight: bold\">Model: \"sequential_2\"</span>\n",
              "</pre>\n"
            ]
          },
          "metadata": {}
        },
        {
          "output_type": "display_data",
          "data": {
            "text/plain": [
              "┏━━━━━━━━━━━━━━━━━━━━━━━━━━━━━━━━━┳━━━━━━━━━━━━━━━━━━━━━━━━┳━━━━━━━━━━━━━━━┓\n",
              "┃\u001b[1m \u001b[0m\u001b[1mLayer (type)                   \u001b[0m\u001b[1m \u001b[0m┃\u001b[1m \u001b[0m\u001b[1mOutput Shape          \u001b[0m\u001b[1m \u001b[0m┃\u001b[1m \u001b[0m\u001b[1m      Param #\u001b[0m\u001b[1m \u001b[0m┃\n",
              "┡━━━━━━━━━━━━━━━━━━━━━━━━━━━━━━━━━╇━━━━━━━━━━━━━━━━━━━━━━━━╇━━━━━━━━━━━━━━━┩\n",
              "│ embedding_2 (\u001b[38;5;33mEmbedding\u001b[0m)         │ (\u001b[38;5;45mNone\u001b[0m, \u001b[38;5;34m300\u001b[0m, \u001b[38;5;34m64\u001b[0m)        │     \u001b[38;5;34m1,294,592\u001b[0m │\n",
              "├─────────────────────────────────┼────────────────────────┼───────────────┤\n",
              "│ gru (\u001b[38;5;33mGRU\u001b[0m)                       │ (\u001b[38;5;45mNone\u001b[0m, \u001b[38;5;34m300\u001b[0m, \u001b[38;5;34m124\u001b[0m)       │        \u001b[38;5;34m70,680\u001b[0m │\n",
              "├─────────────────────────────────┼────────────────────────┼───────────────┤\n",
              "│ gru_1 (\u001b[38;5;33mGRU\u001b[0m)                     │ (\u001b[38;5;45mNone\u001b[0m, \u001b[38;5;34m300\u001b[0m, \u001b[38;5;34m124\u001b[0m)       │        \u001b[38;5;34m93,000\u001b[0m │\n",
              "├─────────────────────────────────┼────────────────────────┼───────────────┤\n",
              "│ gru_2 (\u001b[38;5;33mGRU\u001b[0m)                     │ (\u001b[38;5;45mNone\u001b[0m, \u001b[38;5;34m124\u001b[0m)            │        \u001b[38;5;34m93,000\u001b[0m │\n",
              "├─────────────────────────────────┼────────────────────────┼───────────────┤\n",
              "│ dropout_2 (\u001b[38;5;33mDropout\u001b[0m)             │ (\u001b[38;5;45mNone\u001b[0m, \u001b[38;5;34m124\u001b[0m)            │             \u001b[38;5;34m0\u001b[0m │\n",
              "├─────────────────────────────────┼────────────────────────┼───────────────┤\n",
              "│ dense_4 (\u001b[38;5;33mDense\u001b[0m)                 │ (\u001b[38;5;45mNone\u001b[0m, \u001b[38;5;34m32\u001b[0m)             │         \u001b[38;5;34m4,000\u001b[0m │\n",
              "├─────────────────────────────────┼────────────────────────┼───────────────┤\n",
              "│ dense_5 (\u001b[38;5;33mDense\u001b[0m)                 │ (\u001b[38;5;45mNone\u001b[0m, \u001b[38;5;34m1\u001b[0m)              │            \u001b[38;5;34m33\u001b[0m │\n",
              "└─────────────────────────────────┴────────────────────────┴───────────────┘\n"
            ],
            "text/html": [
              "<pre style=\"white-space:pre;overflow-x:auto;line-height:normal;font-family:Menlo,'DejaVu Sans Mono',consolas,'Courier New',monospace\">┏━━━━━━━━━━━━━━━━━━━━━━━━━━━━━━━━━┳━━━━━━━━━━━━━━━━━━━━━━━━┳━━━━━━━━━━━━━━━┓\n",
              "┃<span style=\"font-weight: bold\"> Layer (type)                    </span>┃<span style=\"font-weight: bold\"> Output Shape           </span>┃<span style=\"font-weight: bold\">       Param # </span>┃\n",
              "┡━━━━━━━━━━━━━━━━━━━━━━━━━━━━━━━━━╇━━━━━━━━━━━━━━━━━━━━━━━━╇━━━━━━━━━━━━━━━┩\n",
              "│ embedding_2 (<span style=\"color: #0087ff; text-decoration-color: #0087ff\">Embedding</span>)         │ (<span style=\"color: #00d7ff; text-decoration-color: #00d7ff\">None</span>, <span style=\"color: #00af00; text-decoration-color: #00af00\">300</span>, <span style=\"color: #00af00; text-decoration-color: #00af00\">64</span>)        │     <span style=\"color: #00af00; text-decoration-color: #00af00\">1,294,592</span> │\n",
              "├─────────────────────────────────┼────────────────────────┼───────────────┤\n",
              "│ gru (<span style=\"color: #0087ff; text-decoration-color: #0087ff\">GRU</span>)                       │ (<span style=\"color: #00d7ff; text-decoration-color: #00d7ff\">None</span>, <span style=\"color: #00af00; text-decoration-color: #00af00\">300</span>, <span style=\"color: #00af00; text-decoration-color: #00af00\">124</span>)       │        <span style=\"color: #00af00; text-decoration-color: #00af00\">70,680</span> │\n",
              "├─────────────────────────────────┼────────────────────────┼───────────────┤\n",
              "│ gru_1 (<span style=\"color: #0087ff; text-decoration-color: #0087ff\">GRU</span>)                     │ (<span style=\"color: #00d7ff; text-decoration-color: #00d7ff\">None</span>, <span style=\"color: #00af00; text-decoration-color: #00af00\">300</span>, <span style=\"color: #00af00; text-decoration-color: #00af00\">124</span>)       │        <span style=\"color: #00af00; text-decoration-color: #00af00\">93,000</span> │\n",
              "├─────────────────────────────────┼────────────────────────┼───────────────┤\n",
              "│ gru_2 (<span style=\"color: #0087ff; text-decoration-color: #0087ff\">GRU</span>)                     │ (<span style=\"color: #00d7ff; text-decoration-color: #00d7ff\">None</span>, <span style=\"color: #00af00; text-decoration-color: #00af00\">124</span>)            │        <span style=\"color: #00af00; text-decoration-color: #00af00\">93,000</span> │\n",
              "├─────────────────────────────────┼────────────────────────┼───────────────┤\n",
              "│ dropout_2 (<span style=\"color: #0087ff; text-decoration-color: #0087ff\">Dropout</span>)             │ (<span style=\"color: #00d7ff; text-decoration-color: #00d7ff\">None</span>, <span style=\"color: #00af00; text-decoration-color: #00af00\">124</span>)            │             <span style=\"color: #00af00; text-decoration-color: #00af00\">0</span> │\n",
              "├─────────────────────────────────┼────────────────────────┼───────────────┤\n",
              "│ dense_4 (<span style=\"color: #0087ff; text-decoration-color: #0087ff\">Dense</span>)                 │ (<span style=\"color: #00d7ff; text-decoration-color: #00d7ff\">None</span>, <span style=\"color: #00af00; text-decoration-color: #00af00\">32</span>)             │         <span style=\"color: #00af00; text-decoration-color: #00af00\">4,000</span> │\n",
              "├─────────────────────────────────┼────────────────────────┼───────────────┤\n",
              "│ dense_5 (<span style=\"color: #0087ff; text-decoration-color: #0087ff\">Dense</span>)                 │ (<span style=\"color: #00d7ff; text-decoration-color: #00d7ff\">None</span>, <span style=\"color: #00af00; text-decoration-color: #00af00\">1</span>)              │            <span style=\"color: #00af00; text-decoration-color: #00af00\">33</span> │\n",
              "└─────────────────────────────────┴────────────────────────┴───────────────┘\n",
              "</pre>\n"
            ]
          },
          "metadata": {}
        },
        {
          "output_type": "display_data",
          "data": {
            "text/plain": [
              "\u001b[1m Total params: \u001b[0m\u001b[38;5;34m1,555,305\u001b[0m (5.93 MB)\n"
            ],
            "text/html": [
              "<pre style=\"white-space:pre;overflow-x:auto;line-height:normal;font-family:Menlo,'DejaVu Sans Mono',consolas,'Courier New',monospace\"><span style=\"font-weight: bold\"> Total params: </span><span style=\"color: #00af00; text-decoration-color: #00af00\">1,555,305</span> (5.93 MB)\n",
              "</pre>\n"
            ]
          },
          "metadata": {}
        },
        {
          "output_type": "display_data",
          "data": {
            "text/plain": [
              "\u001b[1m Trainable params: \u001b[0m\u001b[38;5;34m1,555,305\u001b[0m (5.93 MB)\n"
            ],
            "text/html": [
              "<pre style=\"white-space:pre;overflow-x:auto;line-height:normal;font-family:Menlo,'DejaVu Sans Mono',consolas,'Courier New',monospace\"><span style=\"font-weight: bold\"> Trainable params: </span><span style=\"color: #00af00; text-decoration-color: #00af00\">1,555,305</span> (5.93 MB)\n",
              "</pre>\n"
            ]
          },
          "metadata": {}
        },
        {
          "output_type": "display_data",
          "data": {
            "text/plain": [
              "\u001b[1m Non-trainable params: \u001b[0m\u001b[38;5;34m0\u001b[0m (0.00 B)\n"
            ],
            "text/html": [
              "<pre style=\"white-space:pre;overflow-x:auto;line-height:normal;font-family:Menlo,'DejaVu Sans Mono',consolas,'Courier New',monospace\"><span style=\"font-weight: bold\"> Non-trainable params: </span><span style=\"color: #00af00; text-decoration-color: #00af00\">0</span> (0.00 B)\n",
              "</pre>\n"
            ]
          },
          "metadata": {}
        },
        {
          "output_type": "stream",
          "name": "stdout",
          "text": [
            "Epoch 1/10\n",
            "\u001b[1m625/625\u001b[0m \u001b[32m━━━━━━━━━━━━━━━━━━━━\u001b[0m\u001b[37m\u001b[0m \u001b[1m35s\u001b[0m 51ms/step - accuracy: 0.4999 - loss: 0.6940 - val_accuracy: 0.4962 - val_loss: 0.6932\n",
            "Epoch 2/10\n",
            "\u001b[1m625/625\u001b[0m \u001b[32m━━━━━━━━━━━━━━━━━━━━\u001b[0m\u001b[37m\u001b[0m \u001b[1m29s\u001b[0m 46ms/step - accuracy: 0.5005 - loss: 0.6933 - val_accuracy: 0.5016 - val_loss: 0.6931\n",
            "Epoch 3/10\n",
            "\u001b[1m625/625\u001b[0m \u001b[32m━━━━━━━━━━━━━━━━━━━━\u001b[0m\u001b[37m\u001b[0m \u001b[1m44s\u001b[0m 51ms/step - accuracy: 0.5094 - loss: 0.6871 - val_accuracy: 0.5024 - val_loss: 0.7043\n",
            "Epoch 4/10\n",
            "\u001b[1m625/625\u001b[0m \u001b[32m━━━━━━━━━━━━━━━━━━━━\u001b[0m\u001b[37m\u001b[0m \u001b[1m41s\u001b[0m 51ms/step - accuracy: 0.5213 - loss: 0.6715 - val_accuracy: 0.5009 - val_loss: 0.7035\n",
            "Epoch 5/10\n",
            "\u001b[1m625/625\u001b[0m \u001b[32m━━━━━━━━━━━━━━━━━━━━\u001b[0m\u001b[37m\u001b[0m \u001b[1m41s\u001b[0m 51ms/step - accuracy: 0.6546 - loss: 0.5625 - val_accuracy: 0.8774 - val_loss: 0.2922\n",
            "Epoch 6/10\n",
            "\u001b[1m625/625\u001b[0m \u001b[32m━━━━━━━━━━━━━━━━━━━━\u001b[0m\u001b[37m\u001b[0m \u001b[1m39s\u001b[0m 48ms/step - accuracy: 0.9255 - loss: 0.2001 - val_accuracy: 0.8909 - val_loss: 0.2712\n",
            "Epoch 7/10\n",
            "\u001b[1m625/625\u001b[0m \u001b[32m━━━━━━━━━━━━━━━━━━━━\u001b[0m\u001b[37m\u001b[0m \u001b[1m41s\u001b[0m 47ms/step - accuracy: 0.9659 - loss: 0.1075 - val_accuracy: 0.8801 - val_loss: 0.3399\n",
            "Epoch 8/10\n",
            "\u001b[1m625/625\u001b[0m \u001b[32m━━━━━━━━━━━━━━━━━━━━\u001b[0m\u001b[37m\u001b[0m \u001b[1m41s\u001b[0m 47ms/step - accuracy: 0.9817 - loss: 0.0635 - val_accuracy: 0.8832 - val_loss: 0.4094\n",
            "Epoch 9/10\n",
            "\u001b[1m625/625\u001b[0m \u001b[32m━━━━━━━━━━━━━━━━━━━━\u001b[0m\u001b[37m\u001b[0m \u001b[1m45s\u001b[0m 53ms/step - accuracy: 0.9901 - loss: 0.0411 - val_accuracy: 0.8820 - val_loss: 0.4366\n"
          ]
        }
      ]
    },
    {
      "cell_type": "code",
      "source": [
        "y_pred = model_2.predict(X_test)\n",
        "y_pred_classes = (y_pred > 0.5).astype(int)\n",
        "print('Performance Report For GRU:\\n',classification_report(y_test, y_pred_classes))\n",
        "print('Confusion Matrix:\\n',confusion_matrix(y_test, y_pred_classes))\n",
        "\n"
      ],
      "metadata": {
        "colab": {
          "base_uri": "https://localhost:8080/"
        },
        "id": "lfggKTCGoVbK",
        "outputId": "d2ac8f3a-8446-430a-8c21-1970b450846a"
      },
      "execution_count": 33,
      "outputs": [
        {
          "output_type": "stream",
          "name": "stdout",
          "text": [
            "\u001b[1m313/313\u001b[0m \u001b[32m━━━━━━━━━━━━━━━━━━━━\u001b[0m\u001b[37m\u001b[0m \u001b[1m4s\u001b[0m 14ms/step\n",
            "Performance Report For GRU:\n",
            "               precision    recall  f1-score   support\n",
            "\n",
            "           0       0.87      0.91      0.89      4961\n",
            "           1       0.91      0.87      0.89      5039\n",
            "\n",
            "    accuracy                           0.89     10000\n",
            "   macro avg       0.89      0.89      0.89     10000\n",
            "weighted avg       0.89      0.89      0.89     10000\n",
            "\n",
            "Confusion Matrix:\n",
            " [[4532  429]\n",
            " [ 662 4377]]\n"
          ]
        }
      ]
    },
    {
      "cell_type": "markdown",
      "source": [
        "#---------------------------- Bidirectional LSTM------------------------------------------"
      ],
      "metadata": {
        "id": "Y7jdC0ldTAce"
      }
    },
    {
      "cell_type": "code",
      "source": [
        "from tensorflow.keras.layers import Bidirectional, LSTM\n",
        "\n",
        "vocab_size = 20228\n",
        "embedding_dim = 100\n",
        "max_length = 300\n",
        "\n",
        "model_3 = Sequential([\n",
        "    Input(shape=(max_length,)),Embedding(input_dim=vocab_size,output_dim=embedding_dim),\n",
        "    Bidirectional(LSTM(64)),\n",
        "    Dropout(0.3),\n",
        "    Dense(32, activation='relu'),\n",
        "    Dense(1, activation='sigmoid')\n",
        "])\n",
        "\n",
        "\n",
        "model_3.compile(loss='binary_crossentropy', optimizer='adam', metrics=['accuracy'])\n",
        "\n",
        "model_3.summary()\n",
        "\n",
        "history = model_3.fit(\n",
        "    X_train, y_train,\n",
        "    epochs=5,\n",
        "    batch_size=64,\n",
        "    validation_data=(X_test, y_test),\n",
        "    callbacks=[early_stop]\n",
        ")"
      ],
      "metadata": {
        "id": "winI2BDJS_vH",
        "colab": {
          "base_uri": "https://localhost:8080/",
          "height": 483
        },
        "outputId": "5e4c4fc6-38b6-4d71-e7aa-b54c1d4c0b59"
      },
      "execution_count": 34,
      "outputs": [
        {
          "output_type": "display_data",
          "data": {
            "text/plain": [
              "\u001b[1mModel: \"sequential_3\"\u001b[0m\n"
            ],
            "text/html": [
              "<pre style=\"white-space:pre;overflow-x:auto;line-height:normal;font-family:Menlo,'DejaVu Sans Mono',consolas,'Courier New',monospace\"><span style=\"font-weight: bold\">Model: \"sequential_3\"</span>\n",
              "</pre>\n"
            ]
          },
          "metadata": {}
        },
        {
          "output_type": "display_data",
          "data": {
            "text/plain": [
              "┏━━━━━━━━━━━━━━━━━━━━━━━━━━━━━━━━━┳━━━━━━━━━━━━━━━━━━━━━━━━┳━━━━━━━━━━━━━━━┓\n",
              "┃\u001b[1m \u001b[0m\u001b[1mLayer (type)                   \u001b[0m\u001b[1m \u001b[0m┃\u001b[1m \u001b[0m\u001b[1mOutput Shape          \u001b[0m\u001b[1m \u001b[0m┃\u001b[1m \u001b[0m\u001b[1m      Param #\u001b[0m\u001b[1m \u001b[0m┃\n",
              "┡━━━━━━━━━━━━━━━━━━━━━━━━━━━━━━━━━╇━━━━━━━━━━━━━━━━━━━━━━━━╇━━━━━━━━━━━━━━━┩\n",
              "│ embedding_3 (\u001b[38;5;33mEmbedding\u001b[0m)         │ (\u001b[38;5;45mNone\u001b[0m, \u001b[38;5;34m300\u001b[0m, \u001b[38;5;34m100\u001b[0m)       │     \u001b[38;5;34m2,022,800\u001b[0m │\n",
              "├─────────────────────────────────┼────────────────────────┼───────────────┤\n",
              "│ bidirectional (\u001b[38;5;33mBidirectional\u001b[0m)   │ (\u001b[38;5;45mNone\u001b[0m, \u001b[38;5;34m128\u001b[0m)            │        \u001b[38;5;34m84,480\u001b[0m │\n",
              "├─────────────────────────────────┼────────────────────────┼───────────────┤\n",
              "│ dropout_3 (\u001b[38;5;33mDropout\u001b[0m)             │ (\u001b[38;5;45mNone\u001b[0m, \u001b[38;5;34m128\u001b[0m)            │             \u001b[38;5;34m0\u001b[0m │\n",
              "├─────────────────────────────────┼────────────────────────┼───────────────┤\n",
              "│ dense_6 (\u001b[38;5;33mDense\u001b[0m)                 │ (\u001b[38;5;45mNone\u001b[0m, \u001b[38;5;34m32\u001b[0m)             │         \u001b[38;5;34m4,128\u001b[0m │\n",
              "├─────────────────────────────────┼────────────────────────┼───────────────┤\n",
              "│ dense_7 (\u001b[38;5;33mDense\u001b[0m)                 │ (\u001b[38;5;45mNone\u001b[0m, \u001b[38;5;34m1\u001b[0m)              │            \u001b[38;5;34m33\u001b[0m │\n",
              "└─────────────────────────────────┴────────────────────────┴───────────────┘\n"
            ],
            "text/html": [
              "<pre style=\"white-space:pre;overflow-x:auto;line-height:normal;font-family:Menlo,'DejaVu Sans Mono',consolas,'Courier New',monospace\">┏━━━━━━━━━━━━━━━━━━━━━━━━━━━━━━━━━┳━━━━━━━━━━━━━━━━━━━━━━━━┳━━━━━━━━━━━━━━━┓\n",
              "┃<span style=\"font-weight: bold\"> Layer (type)                    </span>┃<span style=\"font-weight: bold\"> Output Shape           </span>┃<span style=\"font-weight: bold\">       Param # </span>┃\n",
              "┡━━━━━━━━━━━━━━━━━━━━━━━━━━━━━━━━━╇━━━━━━━━━━━━━━━━━━━━━━━━╇━━━━━━━━━━━━━━━┩\n",
              "│ embedding_3 (<span style=\"color: #0087ff; text-decoration-color: #0087ff\">Embedding</span>)         │ (<span style=\"color: #00d7ff; text-decoration-color: #00d7ff\">None</span>, <span style=\"color: #00af00; text-decoration-color: #00af00\">300</span>, <span style=\"color: #00af00; text-decoration-color: #00af00\">100</span>)       │     <span style=\"color: #00af00; text-decoration-color: #00af00\">2,022,800</span> │\n",
              "├─────────────────────────────────┼────────────────────────┼───────────────┤\n",
              "│ bidirectional (<span style=\"color: #0087ff; text-decoration-color: #0087ff\">Bidirectional</span>)   │ (<span style=\"color: #00d7ff; text-decoration-color: #00d7ff\">None</span>, <span style=\"color: #00af00; text-decoration-color: #00af00\">128</span>)            │        <span style=\"color: #00af00; text-decoration-color: #00af00\">84,480</span> │\n",
              "├─────────────────────────────────┼────────────────────────┼───────────────┤\n",
              "│ dropout_3 (<span style=\"color: #0087ff; text-decoration-color: #0087ff\">Dropout</span>)             │ (<span style=\"color: #00d7ff; text-decoration-color: #00d7ff\">None</span>, <span style=\"color: #00af00; text-decoration-color: #00af00\">128</span>)            │             <span style=\"color: #00af00; text-decoration-color: #00af00\">0</span> │\n",
              "├─────────────────────────────────┼────────────────────────┼───────────────┤\n",
              "│ dense_6 (<span style=\"color: #0087ff; text-decoration-color: #0087ff\">Dense</span>)                 │ (<span style=\"color: #00d7ff; text-decoration-color: #00d7ff\">None</span>, <span style=\"color: #00af00; text-decoration-color: #00af00\">32</span>)             │         <span style=\"color: #00af00; text-decoration-color: #00af00\">4,128</span> │\n",
              "├─────────────────────────────────┼────────────────────────┼───────────────┤\n",
              "│ dense_7 (<span style=\"color: #0087ff; text-decoration-color: #0087ff\">Dense</span>)                 │ (<span style=\"color: #00d7ff; text-decoration-color: #00d7ff\">None</span>, <span style=\"color: #00af00; text-decoration-color: #00af00\">1</span>)              │            <span style=\"color: #00af00; text-decoration-color: #00af00\">33</span> │\n",
              "└─────────────────────────────────┴────────────────────────┴───────────────┘\n",
              "</pre>\n"
            ]
          },
          "metadata": {}
        },
        {
          "output_type": "display_data",
          "data": {
            "text/plain": [
              "\u001b[1m Total params: \u001b[0m\u001b[38;5;34m2,111,441\u001b[0m (8.05 MB)\n"
            ],
            "text/html": [
              "<pre style=\"white-space:pre;overflow-x:auto;line-height:normal;font-family:Menlo,'DejaVu Sans Mono',consolas,'Courier New',monospace\"><span style=\"font-weight: bold\"> Total params: </span><span style=\"color: #00af00; text-decoration-color: #00af00\">2,111,441</span> (8.05 MB)\n",
              "</pre>\n"
            ]
          },
          "metadata": {}
        },
        {
          "output_type": "display_data",
          "data": {
            "text/plain": [
              "\u001b[1m Trainable params: \u001b[0m\u001b[38;5;34m2,111,441\u001b[0m (8.05 MB)\n"
            ],
            "text/html": [
              "<pre style=\"white-space:pre;overflow-x:auto;line-height:normal;font-family:Menlo,'DejaVu Sans Mono',consolas,'Courier New',monospace\"><span style=\"font-weight: bold\"> Trainable params: </span><span style=\"color: #00af00; text-decoration-color: #00af00\">2,111,441</span> (8.05 MB)\n",
              "</pre>\n"
            ]
          },
          "metadata": {}
        },
        {
          "output_type": "display_data",
          "data": {
            "text/plain": [
              "\u001b[1m Non-trainable params: \u001b[0m\u001b[38;5;34m0\u001b[0m (0.00 B)\n"
            ],
            "text/html": [
              "<pre style=\"white-space:pre;overflow-x:auto;line-height:normal;font-family:Menlo,'DejaVu Sans Mono',consolas,'Courier New',monospace\"><span style=\"font-weight: bold\"> Non-trainable params: </span><span style=\"color: #00af00; text-decoration-color: #00af00\">0</span> (0.00 B)\n",
              "</pre>\n"
            ]
          },
          "metadata": {}
        },
        {
          "output_type": "stream",
          "name": "stdout",
          "text": [
            "Epoch 1/5\n",
            "\u001b[1m625/625\u001b[0m \u001b[32m━━━━━━━━━━━━━━━━━━━━\u001b[0m\u001b[37m\u001b[0m \u001b[1m21s\u001b[0m 29ms/step - accuracy: 0.7672 - loss: 0.4615 - val_accuracy: 0.8838 - val_loss: 0.2920\n",
            "Epoch 2/5\n",
            "\u001b[1m625/625\u001b[0m \u001b[32m━━━━━━━━━━━━━━━━━━━━\u001b[0m\u001b[37m\u001b[0m \u001b[1m17s\u001b[0m 28ms/step - accuracy: 0.9257 - loss: 0.2111 - val_accuracy: 0.8847 - val_loss: 0.2871\n",
            "Epoch 3/5\n",
            "\u001b[1m625/625\u001b[0m \u001b[32m━━━━━━━━━━━━━━━━━━━━\u001b[0m\u001b[37m\u001b[0m \u001b[1m21s\u001b[0m 28ms/step - accuracy: 0.9537 - loss: 0.1344 - val_accuracy: 0.8784 - val_loss: 0.3222\n",
            "Epoch 4/5\n",
            "\u001b[1m625/625\u001b[0m \u001b[32m━━━━━━━━━━━━━━━━━━━━\u001b[0m\u001b[37m\u001b[0m \u001b[1m21s\u001b[0m 29ms/step - accuracy: 0.9682 - loss: 0.0968 - val_accuracy: 0.8791 - val_loss: 0.3827\n",
            "Epoch 5/5\n",
            "\u001b[1m625/625\u001b[0m \u001b[32m━━━━━━━━━━━━━━━━━━━━\u001b[0m\u001b[37m\u001b[0m \u001b[1m21s\u001b[0m 29ms/step - accuracy: 0.9755 - loss: 0.0770 - val_accuracy: 0.8754 - val_loss: 0.4352\n"
          ]
        }
      ]
    },
    {
      "cell_type": "code",
      "source": [
        "y_pred = model_3.predict(X_test)\n",
        "y_pred_classes = (y_pred > 0.5).astype(int)\n",
        "print('Performance Report For Bidirectional LSTM:\\n',classification_report(y_test, y_pred_classes))\n",
        "print('Confusion Matrix:\\n',confusion_matrix(y_test, y_pred_classes))\n"
      ],
      "metadata": {
        "colab": {
          "base_uri": "https://localhost:8080/"
        },
        "id": "UUIIQJCYoY-L",
        "outputId": "fd01eb39-9d79-4181-aaed-a463a3284498"
      },
      "execution_count": 35,
      "outputs": [
        {
          "output_type": "stream",
          "name": "stdout",
          "text": [
            "\u001b[1m313/313\u001b[0m \u001b[32m━━━━━━━━━━━━━━━━━━━━\u001b[0m\u001b[37m\u001b[0m \u001b[1m4s\u001b[0m 11ms/step\n",
            "Performance Report For Bidirectional LSTM:\n",
            "               precision    recall  f1-score   support\n",
            "\n",
            "           0       0.87      0.90      0.89      4961\n",
            "           1       0.90      0.87      0.88      5039\n",
            "\n",
            "    accuracy                           0.88     10000\n",
            "   macro avg       0.89      0.88      0.88     10000\n",
            "weighted avg       0.89      0.88      0.88     10000\n",
            "\n",
            "Confusion Matrix:\n",
            " [[4465  496]\n",
            " [ 657 4382]]\n"
          ]
        }
      ]
    },
    {
      "cell_type": "markdown",
      "source": [
        "#---------------------------CNN + LSTM------------------------------------------"
      ],
      "metadata": {
        "id": "79b0G3zeTfGM"
      }
    },
    {
      "cell_type": "code",
      "source": [
        "from tensorflow.keras.layers import Conv1D, MaxPooling1D, LSTM\n",
        "\n",
        "\n",
        "vocab_size = 20228\n",
        "embedding_dim = 64\n",
        "max_length = 300\n",
        "\n",
        "model_4 = Sequential([\n",
        "    Input(shape=(max_length,)),Embedding(input_dim=vocab_size,output_dim=embedding_dim),\n",
        "    Conv1D(filters=128, kernel_size=5, activation='relu'),\n",
        "    MaxPooling1D(pool_size=2),\n",
        "    LSTM(64, return_sequences=True),\n",
        "    LSTM(64),\n",
        "    Dropout(0.3),\n",
        "    Dense(32, activation='relu'),\n",
        "    Dense(1, activation='sigmoid')\n",
        "])\n",
        "\n",
        "model_4.compile(loss='binary_crossentropy', optimizer='adam', metrics=['accuracy'])\n",
        "\n",
        "model_4.summary()\n",
        "\n",
        "history = model_4.fit(\n",
        "    X_train, y_train,\n",
        "    epochs=10,\n",
        "    batch_size=64,\n",
        "    validation_data=(X_test, y_test),\n",
        "    callbacks=[early_stop]\n",
        ")"
      ],
      "metadata": {
        "id": "qpJEcacRTlBj",
        "colab": {
          "base_uri": "https://localhost:8080/",
          "height": 648
        },
        "outputId": "8e6ec56a-4690-47f0-c773-72081b168ecd"
      },
      "execution_count": 36,
      "outputs": [
        {
          "output_type": "display_data",
          "data": {
            "text/plain": [
              "\u001b[1mModel: \"sequential_4\"\u001b[0m\n"
            ],
            "text/html": [
              "<pre style=\"white-space:pre;overflow-x:auto;line-height:normal;font-family:Menlo,'DejaVu Sans Mono',consolas,'Courier New',monospace\"><span style=\"font-weight: bold\">Model: \"sequential_4\"</span>\n",
              "</pre>\n"
            ]
          },
          "metadata": {}
        },
        {
          "output_type": "display_data",
          "data": {
            "text/plain": [
              "┏━━━━━━━━━━━━━━━━━━━━━━━━━━━━━━━━━┳━━━━━━━━━━━━━━━━━━━━━━━━┳━━━━━━━━━━━━━━━┓\n",
              "┃\u001b[1m \u001b[0m\u001b[1mLayer (type)                   \u001b[0m\u001b[1m \u001b[0m┃\u001b[1m \u001b[0m\u001b[1mOutput Shape          \u001b[0m\u001b[1m \u001b[0m┃\u001b[1m \u001b[0m\u001b[1m      Param #\u001b[0m\u001b[1m \u001b[0m┃\n",
              "┡━━━━━━━━━━━━━━━━━━━━━━━━━━━━━━━━━╇━━━━━━━━━━━━━━━━━━━━━━━━╇━━━━━━━━━━━━━━━┩\n",
              "│ embedding_4 (\u001b[38;5;33mEmbedding\u001b[0m)         │ (\u001b[38;5;45mNone\u001b[0m, \u001b[38;5;34m300\u001b[0m, \u001b[38;5;34m64\u001b[0m)        │     \u001b[38;5;34m1,294,592\u001b[0m │\n",
              "├─────────────────────────────────┼────────────────────────┼───────────────┤\n",
              "│ conv1d (\u001b[38;5;33mConv1D\u001b[0m)                 │ (\u001b[38;5;45mNone\u001b[0m, \u001b[38;5;34m296\u001b[0m, \u001b[38;5;34m128\u001b[0m)       │        \u001b[38;5;34m41,088\u001b[0m │\n",
              "├─────────────────────────────────┼────────────────────────┼───────────────┤\n",
              "│ max_pooling1d (\u001b[38;5;33mMaxPooling1D\u001b[0m)    │ (\u001b[38;5;45mNone\u001b[0m, \u001b[38;5;34m148\u001b[0m, \u001b[38;5;34m128\u001b[0m)       │             \u001b[38;5;34m0\u001b[0m │\n",
              "├─────────────────────────────────┼────────────────────────┼───────────────┤\n",
              "│ lstm_5 (\u001b[38;5;33mLSTM\u001b[0m)                   │ (\u001b[38;5;45mNone\u001b[0m, \u001b[38;5;34m148\u001b[0m, \u001b[38;5;34m64\u001b[0m)        │        \u001b[38;5;34m49,408\u001b[0m │\n",
              "├─────────────────────────────────┼────────────────────────┼───────────────┤\n",
              "│ lstm_6 (\u001b[38;5;33mLSTM\u001b[0m)                   │ (\u001b[38;5;45mNone\u001b[0m, \u001b[38;5;34m64\u001b[0m)             │        \u001b[38;5;34m33,024\u001b[0m │\n",
              "├─────────────────────────────────┼────────────────────────┼───────────────┤\n",
              "│ dropout_4 (\u001b[38;5;33mDropout\u001b[0m)             │ (\u001b[38;5;45mNone\u001b[0m, \u001b[38;5;34m64\u001b[0m)             │             \u001b[38;5;34m0\u001b[0m │\n",
              "├─────────────────────────────────┼────────────────────────┼───────────────┤\n",
              "│ dense_8 (\u001b[38;5;33mDense\u001b[0m)                 │ (\u001b[38;5;45mNone\u001b[0m, \u001b[38;5;34m32\u001b[0m)             │         \u001b[38;5;34m2,080\u001b[0m │\n",
              "├─────────────────────────────────┼────────────────────────┼───────────────┤\n",
              "│ dense_9 (\u001b[38;5;33mDense\u001b[0m)                 │ (\u001b[38;5;45mNone\u001b[0m, \u001b[38;5;34m1\u001b[0m)              │            \u001b[38;5;34m33\u001b[0m │\n",
              "└─────────────────────────────────┴────────────────────────┴───────────────┘\n"
            ],
            "text/html": [
              "<pre style=\"white-space:pre;overflow-x:auto;line-height:normal;font-family:Menlo,'DejaVu Sans Mono',consolas,'Courier New',monospace\">┏━━━━━━━━━━━━━━━━━━━━━━━━━━━━━━━━━┳━━━━━━━━━━━━━━━━━━━━━━━━┳━━━━━━━━━━━━━━━┓\n",
              "┃<span style=\"font-weight: bold\"> Layer (type)                    </span>┃<span style=\"font-weight: bold\"> Output Shape           </span>┃<span style=\"font-weight: bold\">       Param # </span>┃\n",
              "┡━━━━━━━━━━━━━━━━━━━━━━━━━━━━━━━━━╇━━━━━━━━━━━━━━━━━━━━━━━━╇━━━━━━━━━━━━━━━┩\n",
              "│ embedding_4 (<span style=\"color: #0087ff; text-decoration-color: #0087ff\">Embedding</span>)         │ (<span style=\"color: #00d7ff; text-decoration-color: #00d7ff\">None</span>, <span style=\"color: #00af00; text-decoration-color: #00af00\">300</span>, <span style=\"color: #00af00; text-decoration-color: #00af00\">64</span>)        │     <span style=\"color: #00af00; text-decoration-color: #00af00\">1,294,592</span> │\n",
              "├─────────────────────────────────┼────────────────────────┼───────────────┤\n",
              "│ conv1d (<span style=\"color: #0087ff; text-decoration-color: #0087ff\">Conv1D</span>)                 │ (<span style=\"color: #00d7ff; text-decoration-color: #00d7ff\">None</span>, <span style=\"color: #00af00; text-decoration-color: #00af00\">296</span>, <span style=\"color: #00af00; text-decoration-color: #00af00\">128</span>)       │        <span style=\"color: #00af00; text-decoration-color: #00af00\">41,088</span> │\n",
              "├─────────────────────────────────┼────────────────────────┼───────────────┤\n",
              "│ max_pooling1d (<span style=\"color: #0087ff; text-decoration-color: #0087ff\">MaxPooling1D</span>)    │ (<span style=\"color: #00d7ff; text-decoration-color: #00d7ff\">None</span>, <span style=\"color: #00af00; text-decoration-color: #00af00\">148</span>, <span style=\"color: #00af00; text-decoration-color: #00af00\">128</span>)       │             <span style=\"color: #00af00; text-decoration-color: #00af00\">0</span> │\n",
              "├─────────────────────────────────┼────────────────────────┼───────────────┤\n",
              "│ lstm_5 (<span style=\"color: #0087ff; text-decoration-color: #0087ff\">LSTM</span>)                   │ (<span style=\"color: #00d7ff; text-decoration-color: #00d7ff\">None</span>, <span style=\"color: #00af00; text-decoration-color: #00af00\">148</span>, <span style=\"color: #00af00; text-decoration-color: #00af00\">64</span>)        │        <span style=\"color: #00af00; text-decoration-color: #00af00\">49,408</span> │\n",
              "├─────────────────────────────────┼────────────────────────┼───────────────┤\n",
              "│ lstm_6 (<span style=\"color: #0087ff; text-decoration-color: #0087ff\">LSTM</span>)                   │ (<span style=\"color: #00d7ff; text-decoration-color: #00d7ff\">None</span>, <span style=\"color: #00af00; text-decoration-color: #00af00\">64</span>)             │        <span style=\"color: #00af00; text-decoration-color: #00af00\">33,024</span> │\n",
              "├─────────────────────────────────┼────────────────────────┼───────────────┤\n",
              "│ dropout_4 (<span style=\"color: #0087ff; text-decoration-color: #0087ff\">Dropout</span>)             │ (<span style=\"color: #00d7ff; text-decoration-color: #00d7ff\">None</span>, <span style=\"color: #00af00; text-decoration-color: #00af00\">64</span>)             │             <span style=\"color: #00af00; text-decoration-color: #00af00\">0</span> │\n",
              "├─────────────────────────────────┼────────────────────────┼───────────────┤\n",
              "│ dense_8 (<span style=\"color: #0087ff; text-decoration-color: #0087ff\">Dense</span>)                 │ (<span style=\"color: #00d7ff; text-decoration-color: #00d7ff\">None</span>, <span style=\"color: #00af00; text-decoration-color: #00af00\">32</span>)             │         <span style=\"color: #00af00; text-decoration-color: #00af00\">2,080</span> │\n",
              "├─────────────────────────────────┼────────────────────────┼───────────────┤\n",
              "│ dense_9 (<span style=\"color: #0087ff; text-decoration-color: #0087ff\">Dense</span>)                 │ (<span style=\"color: #00d7ff; text-decoration-color: #00d7ff\">None</span>, <span style=\"color: #00af00; text-decoration-color: #00af00\">1</span>)              │            <span style=\"color: #00af00; text-decoration-color: #00af00\">33</span> │\n",
              "└─────────────────────────────────┴────────────────────────┴───────────────┘\n",
              "</pre>\n"
            ]
          },
          "metadata": {}
        },
        {
          "output_type": "display_data",
          "data": {
            "text/plain": [
              "\u001b[1m Total params: \u001b[0m\u001b[38;5;34m1,420,225\u001b[0m (5.42 MB)\n"
            ],
            "text/html": [
              "<pre style=\"white-space:pre;overflow-x:auto;line-height:normal;font-family:Menlo,'DejaVu Sans Mono',consolas,'Courier New',monospace\"><span style=\"font-weight: bold\"> Total params: </span><span style=\"color: #00af00; text-decoration-color: #00af00\">1,420,225</span> (5.42 MB)\n",
              "</pre>\n"
            ]
          },
          "metadata": {}
        },
        {
          "output_type": "display_data",
          "data": {
            "text/plain": [
              "\u001b[1m Trainable params: \u001b[0m\u001b[38;5;34m1,420,225\u001b[0m (5.42 MB)\n"
            ],
            "text/html": [
              "<pre style=\"white-space:pre;overflow-x:auto;line-height:normal;font-family:Menlo,'DejaVu Sans Mono',consolas,'Courier New',monospace\"><span style=\"font-weight: bold\"> Trainable params: </span><span style=\"color: #00af00; text-decoration-color: #00af00\">1,420,225</span> (5.42 MB)\n",
              "</pre>\n"
            ]
          },
          "metadata": {}
        },
        {
          "output_type": "display_data",
          "data": {
            "text/plain": [
              "\u001b[1m Non-trainable params: \u001b[0m\u001b[38;5;34m0\u001b[0m (0.00 B)\n"
            ],
            "text/html": [
              "<pre style=\"white-space:pre;overflow-x:auto;line-height:normal;font-family:Menlo,'DejaVu Sans Mono',consolas,'Courier New',monospace\"><span style=\"font-weight: bold\"> Non-trainable params: </span><span style=\"color: #00af00; text-decoration-color: #00af00\">0</span> (0.00 B)\n",
              "</pre>\n"
            ]
          },
          "metadata": {}
        },
        {
          "output_type": "stream",
          "name": "stdout",
          "text": [
            "Epoch 1/10\n",
            "\u001b[1m625/625\u001b[0m \u001b[32m━━━━━━━━━━━━━━━━━━━━\u001b[0m\u001b[37m\u001b[0m \u001b[1m16s\u001b[0m 20ms/step - accuracy: 0.5045 - loss: 0.6923 - val_accuracy: 0.5039 - val_loss: 0.6929\n",
            "Epoch 2/10\n",
            "\u001b[1m625/625\u001b[0m \u001b[32m━━━━━━━━━━━━━━━━━━━━\u001b[0m\u001b[37m\u001b[0m \u001b[1m12s\u001b[0m 19ms/step - accuracy: 0.5083 - loss: 0.6921 - val_accuracy: 0.5098 - val_loss: 0.6864\n",
            "Epoch 3/10\n",
            "\u001b[1m625/625\u001b[0m \u001b[32m━━━━━━━━━━━━━━━━━━━━\u001b[0m\u001b[37m\u001b[0m \u001b[1m21s\u001b[0m 19ms/step - accuracy: 0.7487 - loss: 0.4953 - val_accuracy: 0.8621 - val_loss: 0.3233\n",
            "Epoch 4/10\n",
            "\u001b[1m625/625\u001b[0m \u001b[32m━━━━━━━━━━━━━━━━━━━━\u001b[0m\u001b[37m\u001b[0m \u001b[1m20s\u001b[0m 19ms/step - accuracy: 0.9015 - loss: 0.2604 - val_accuracy: 0.8853 - val_loss: 0.2768\n",
            "Epoch 5/10\n",
            "\u001b[1m625/625\u001b[0m \u001b[32m━━━━━━━━━━━━━━━━━━━━\u001b[0m\u001b[37m\u001b[0m \u001b[1m21s\u001b[0m 19ms/step - accuracy: 0.9386 - loss: 0.1764 - val_accuracy: 0.8894 - val_loss: 0.2997\n",
            "Epoch 6/10\n",
            "\u001b[1m625/625\u001b[0m \u001b[32m━━━━━━━━━━━━━━━━━━━━\u001b[0m\u001b[37m\u001b[0m \u001b[1m20s\u001b[0m 19ms/step - accuracy: 0.9611 - loss: 0.1201 - val_accuracy: 0.8783 - val_loss: 0.2959\n",
            "Epoch 7/10\n",
            "\u001b[1m625/625\u001b[0m \u001b[32m━━━━━━━━━━━━━━━━━━━━\u001b[0m\u001b[37m\u001b[0m \u001b[1m20s\u001b[0m 19ms/step - accuracy: 0.9806 - loss: 0.0741 - val_accuracy: 0.8821 - val_loss: 0.3674\n"
          ]
        }
      ]
    },
    {
      "cell_type": "code",
      "source": [
        "y_pred = model_4.predict(X_test)\n",
        "y_pred_classes = (y_pred > 0.5).astype(int)\n",
        "print('Performance Report For CNN + LSTM:\\n',classification_report(y_test, y_pred_classes))\n",
        "print('Confusion Matrix:\\n',confusion_matrix(y_test, y_pred_classes))\n"
      ],
      "metadata": {
        "colab": {
          "base_uri": "https://localhost:8080/"
        },
        "id": "LdyffRFrobrA",
        "outputId": "d958d76d-3e28-4aca-c6ea-5b04162eb6aa"
      },
      "execution_count": 37,
      "outputs": [
        {
          "output_type": "stream",
          "name": "stdout",
          "text": [
            "\u001b[1m313/313\u001b[0m \u001b[32m━━━━━━━━━━━━━━━━━━━━\u001b[0m\u001b[37m\u001b[0m \u001b[1m2s\u001b[0m 6ms/step\n",
            "Performance Report For CNN + LSTM:\n",
            "               precision    recall  f1-score   support\n",
            "\n",
            "           0       0.88      0.89      0.89      4961\n",
            "           1       0.89      0.88      0.89      5039\n",
            "\n",
            "    accuracy                           0.89     10000\n",
            "   macro avg       0.89      0.89      0.89     10000\n",
            "weighted avg       0.89      0.89      0.89     10000\n",
            "\n",
            "Confusion Matrix:\n",
            " [[4418  543]\n",
            " [ 604 4435]]\n"
          ]
        }
      ]
    },
    {
      "cell_type": "code",
      "source": [
        "def predict_sentiment(review):\n",
        "    review = review.lower()\n",
        "    review = re.sub(r'[^a-z0-9\\s]', '', review)\n",
        "    review = review.strip()\n",
        "\n",
        "    sequence = tokenizer.texts_to_sequences([review])\n",
        "\n",
        "    padded = pad_sequences(sequence, maxlen=300, padding='post', truncating='post')\n",
        "\n",
        "    prediction = model.predict(padded).item()\n",
        "    if prediction >= 0.5:\n",
        "        return \"positive\"\n",
        "    else:\n",
        "        return \"negative\"\n"
      ],
      "metadata": {
        "id": "sJACPjOgFcPC"
      },
      "execution_count": 38,
      "outputs": []
    },
    {
      "cell_type": "code",
      "source": [
        "print(predict_sentiment(\"This movie was absolutely amazing!\"))"
      ],
      "metadata": {
        "colab": {
          "base_uri": "https://localhost:8080/"
        },
        "id": "9RPgIcq8FzmN",
        "outputId": "efa94a1d-4104-4b4b-a74a-51ce505afa4f"
      },
      "execution_count": 39,
      "outputs": [
        {
          "output_type": "stream",
          "name": "stdout",
          "text": [
            "\u001b[1m1/1\u001b[0m \u001b[32m━━━━━━━━━━━━━━━━━━━━\u001b[0m\u001b[37m\u001b[0m \u001b[1m0s\u001b[0m 386ms/step\n",
            "negative\n"
          ]
        }
      ]
    },
    {
      "cell_type": "code",
      "source": [
        "\n",
        "print(predict_sentiment(\"Despite my initial skepticism, I found the film to be a refreshingly original masterpiece, with outstanding performances and a plot that kept me engaged and emotionally invested until the very last frame.\"))\n"
      ],
      "metadata": {
        "colab": {
          "base_uri": "https://localhost:8080/"
        },
        "id": "i4xKbdJTF9O3",
        "outputId": "f1941655-3ac0-45f4-e8f8-0daa14d50e9d"
      },
      "execution_count": 40,
      "outputs": [
        {
          "output_type": "stream",
          "name": "stdout",
          "text": [
            "\u001b[1m1/1\u001b[0m \u001b[32m━━━━━━━━━━━━━━━━━━━━\u001b[0m\u001b[37m\u001b[0m \u001b[1m0s\u001b[0m 46ms/step\n",
            "positive\n"
          ]
        }
      ]
    },
    {
      "cell_type": "code",
      "source": [
        "print(predict_sentiment('Although the film had potential, its painfully slow pacing, shallow characters, and lack of coherent direction made it feel more like a tedious chore than a cinematic experience.'))"
      ],
      "metadata": {
        "colab": {
          "base_uri": "https://localhost:8080/"
        },
        "id": "lHTXVoYPGxT7",
        "outputId": "ab96efc6-841a-4ac7-9953-b73975883df7"
      },
      "execution_count": 41,
      "outputs": [
        {
          "output_type": "stream",
          "name": "stdout",
          "text": [
            "\u001b[1m1/1\u001b[0m \u001b[32m━━━━━━━━━━━━━━━━━━━━\u001b[0m\u001b[37m\u001b[0m \u001b[1m0s\u001b[0m 43ms/step\n",
            "negative\n"
          ]
        }
      ]
    },
    {
      "cell_type": "code",
      "source": [],
      "metadata": {
        "id": "564L_YDXHx0t"
      },
      "execution_count": 41,
      "outputs": []
    }
  ]
}